{
 "cells": [
  {
   "cell_type": "code",
   "execution_count": 1,
   "metadata": {
    "collapsed": false,
    "jupyter": {
     "outputs_hidden": false
    }
   },
   "outputs": [
    {
     "name": "stdout",
     "output_type": "stream",
     "text": [
      "IPython console for SymPy 1.6.2 (Python 3.8.7-64-bit) (ground types: python)\n",
      "\n",
      "These commands were executed:\n",
      ">>> from __future__ import division\n",
      ">>> from sympy import *\n",
      ">>> x, y, z, t = symbols('x y z t')\n",
      ">>> k, m, n = symbols('k m n', integer=True)\n",
      ">>> f, g, h = symbols('f g h', cls=Function)\n",
      ">>> init_printing()\n",
      "\n",
      "Documentation can be found at https://docs.sympy.org/1.6.2/\n",
      "\n"
     ]
    }
   ],
   "source": [
    "from sympy import init_session\n",
    "init_session()"
   ]
  },
  {
   "cell_type": "markdown",
   "metadata": {},
   "source": [
    "# Euler equations eigensystem\n",
    "\n",
    "## Primitive variable form\n",
    "\n",
    "The Euler equations in primitive variable form, ${\\bf q} = (\\rho, u, p)^\\intercal$ appear as:\n",
    "\n",
    "$${\\bf q}_t + {\\bf A}({\\bf q}) {\\bf q}_x = 0$$\n",
    "\n",
    "with the matrix ${\\bf A}({\\bf q})$:\n",
    "\n",
    "\n",
    "$${\\bf A}({\\bf q}) = \\left ( \\begin{array}{ccc} u  & \\rho     & 0 \\\\                          \n",
    "                                  0  &  u       & 1/\\rho \\\\                     \n",
    "                                  0  & \\gamma p & u \\end{array} \\right )  \n",
    "$$\n",
    "\n",
    "The sound speed is related to the adiabatic index, $\\gamma$, as $c^2 = \\gamma p /\\rho$.\n",
    "\n",
    "We can represent this matrix symbolically in SymPy and explore its eigensystem."
   ]
  },
  {
   "cell_type": "code",
   "execution_count": 2,
   "metadata": {
    "collapsed": false,
    "jupyter": {
     "outputs_hidden": false
    }
   },
   "outputs": [
    {
     "data": {
      "image/png": "[encoded data removed]",
      "text/latex": [
       "$\\displaystyle \\left[\\begin{matrix}u & \\rho & 0\\\\0 & u & \\frac{1}{\\rho}\\\\0 & c^{2} \\rho & u\\end{matrix}\\right]$"
      ],
      "text/plain": [
       "⎡u   ρ    0⎤\n",
       "⎢          ⎥\n",
       "⎢         1⎥\n",
       "⎢0   u    ─⎥\n",
       "⎢         ρ⎥\n",
       "⎢          ⎥\n",
       "⎢    2     ⎥\n",
       "⎣0  c ⋅ρ  u⎦"
      ]
     },
     "execution_count": 2,
     "metadata": {},
     "output_type": "execute_result"
    }
   ],
   "source": [
    "from sympy.abc import rho\n",
    "rho, u, c = symbols('rho u c')\n",
    "\n",
    "A = Matrix([[u, rho, 0], [0, u, rho**-1], [0, c**2 * rho, u]])\n",
    "A"
   ]
  },
  {
   "cell_type": "markdown",
   "metadata": {},
   "source": [
    "The eigenvalues are the speeds at which information propagates with.  SymPy returns them as a\n",
    "dictionary, giving the multiplicity for each eigenvalue."
   ]
  },
  {
   "cell_type": "code",
   "execution_count": 3,
   "metadata": {
    "collapsed": false,
    "jupyter": {
     "outputs_hidden": false
    }
   },
   "outputs": [
    {
     "data": {
      "image/png": "[encoded data removed]",
      "text/latex": [
       "$\\displaystyle \\left\\{ u : 1, \\  - c + u : 1, \\  c + u : 1\\right\\}$"
      ],
      "text/plain": [
       "{u: 1, -c + u: 1, c + u: 1}"
      ]
     },
     "execution_count": 3,
     "metadata": {},
     "output_type": "execute_result"
    }
   ],
   "source": [
    "A.eigenvals()"
   ]
  },
  {
   "cell_type": "markdown",
   "metadata": {},
   "source": [
    "The right eigenvectors are what SymPy gives natively.  For a given eigenvalue, $\\lambda$, these \n",
    "satisfy:\n",
    "    \n",
    "$${\\bf A} {\\bf r} = \\lambda {\\bf r}$$"
   ]
  },
  {
   "cell_type": "markdown",
   "metadata": {},
   "source": [
    "### Right Eigenvectors"
   ]
  },
  {
   "cell_type": "code",
   "execution_count": 4,
   "metadata": {
    "collapsed": false,
    "jupyter": {
     "outputs_hidden": false
    }
   },
   "outputs": [],
   "source": [
    "R = A.eigenvects()   # this returns a tuple for each eigenvector with multiplicity -- unpack it\n",
    "r = []\n",
    "lam = []\n",
    "for (ev, _, rtmp) in R:\n",
    "    r.append(rtmp[0])\n",
    "    lam.append(ev)\n",
    "    \n",
    "# we can normalize them anyway we want, so let's make the first entry 1\n",
    "for n in range(len(r)):\n",
    "    v = r[n]\n",
    "    r[n] = v/v[0]"
   ]
  },
  {
   "cell_type": "markdown",
   "metadata": {},
   "source": [
    "#### 0-th right eigenvector "
   ]
  },
  {
   "cell_type": "code",
   "execution_count": 5,
   "metadata": {
    "collapsed": false,
    "jupyter": {
     "outputs_hidden": false
    }
   },
   "outputs": [
    {
     "data": {
      "image/png": "[encoded data removed]",
      "text/latex": [
       "$\\displaystyle \\left[\\begin{matrix}1\\\\0\\\\0\\end{matrix}\\right]$"
      ],
      "text/plain": [
       "⎡1⎤\n",
       "⎢ ⎥\n",
       "⎢0⎥\n",
       "⎢ ⎥\n",
       "⎣0⎦"
      ]
     },
     "execution_count": 5,
     "metadata": {},
     "output_type": "execute_result"
    }
   ],
   "source": [
    "r[0]"
   ]
  },
  {
   "cell_type": "markdown",
   "metadata": {},
   "source": [
    "this corresponds to the eigenvalue"
   ]
  },
  {
   "cell_type": "code",
   "execution_count": 6,
   "metadata": {
    "collapsed": false,
    "jupyter": {
     "outputs_hidden": false
    }
   },
   "outputs": [
    {
     "data": {
      "image/png": "[encoded data removed]",
      "text/latex": [
       "$\\displaystyle u$"
      ],
      "text/plain": [
       "u"
      ]
     },
     "execution_count": 6,
     "metadata": {},
     "output_type": "execute_result"
    }
   ],
   "source": [
    "lam[0]"
   ]
  },
  {
   "cell_type": "markdown",
   "metadata": {},
   "source": [
    "#### 1-st right eigenvector"
   ]
  },
  {
   "cell_type": "code",
   "execution_count": 7,
   "metadata": {
    "collapsed": false,
    "jupyter": {
     "outputs_hidden": false
    }
   },
   "outputs": [
    {
     "data": {
      "image/png": "[encoded data removed]",
      "text/latex": [
       "$\\displaystyle \\left[\\begin{matrix}1\\\\- \\frac{c}{\\rho}\\\\c^{2}\\end{matrix}\\right]$"
      ],
      "text/plain": [
       "⎡ 1 ⎤\n",
       "⎢   ⎥\n",
       "⎢-c ⎥\n",
       "⎢───⎥\n",
       "⎢ ρ ⎥\n",
       "⎢   ⎥\n",
       "⎢ 2 ⎥\n",
       "⎣c  ⎦"
      ]
     },
     "execution_count": 7,
     "metadata": {},
     "output_type": "execute_result"
    }
   ],
   "source": [
    "r[1]"
   ]
  },
  {
   "cell_type": "markdown",
   "metadata": {},
   "source": [
    "this corresponds to the eigenvalue"
   ]
  },
  {
   "cell_type": "code",
   "execution_count": 8,
   "metadata": {
    "collapsed": false,
    "jupyter": {
     "outputs_hidden": false
    }
   },
   "outputs": [
    {
     "data": {
      "image/png": "[encoded data removed]",
      "text/latex": [
       "$\\displaystyle - c + u$"
      ],
      "text/plain": [
       "-c + u"
      ]
     },
     "execution_count": 8,
     "metadata": {},
     "output_type": "execute_result"
    }
   ],
   "source": [
    "lam[1]"
   ]
  },
  {
   "cell_type": "markdown",
   "metadata": {},
   "source": [
    "#### 2-nd right eigenvector"
   ]
  },
  {
   "cell_type": "code",
   "execution_count": 9,
   "metadata": {
    "collapsed": false,
    "jupyter": {
     "outputs_hidden": false
    }
   },
   "outputs": [
    {
     "data": {
      "image/png": "[encoded data removed]",
      "text/latex": [
       "$\\displaystyle \\left[\\begin{matrix}1\\\\\\frac{c}{\\rho}\\\\c^{2}\\end{matrix}\\right]$"
      ],
      "text/plain": [
       "⎡1 ⎤\n",
       "⎢  ⎥\n",
       "⎢c ⎥\n",
       "⎢─ ⎥\n",
       "⎢ρ ⎥\n",
       "⎢  ⎥\n",
       "⎢ 2⎥\n",
       "⎣c ⎦"
      ]
     },
     "execution_count": 9,
     "metadata": {},
     "output_type": "execute_result"
    }
   ],
   "source": [
    "r[2]"
   ]
  },
  {
   "cell_type": "markdown",
   "metadata": {},
   "source": [
    "this corresponds to the eigenvalue"
   ]
  },
  {
   "cell_type": "code",
   "execution_count": 10,
   "metadata": {
    "collapsed": false,
    "jupyter": {
     "outputs_hidden": false
    }
   },
   "outputs": [
    {
     "data": {
      "image/png": "[encoded data removed]",
      "text/latex": [
       "$\\displaystyle c + u$"
      ],
      "text/plain": [
       "c + u"
      ]
     },
     "execution_count": 10,
     "metadata": {},
     "output_type": "execute_result"
    }
   ],
   "source": [
    "lam[2]"
   ]
  },
  {
   "cell_type": "markdown",
   "metadata": {},
   "source": [
    "Here they are as a matrix, ${\\bf R}$, in order from smallest to largest eigenvalue"
   ]
  },
  {
   "cell_type": "code",
   "execution_count": 11,
   "metadata": {
    "collapsed": false,
    "jupyter": {
     "outputs_hidden": false
    }
   },
   "outputs": [
    {
     "data": {
      "image/png": "[encoded data removed]",
      "text/latex": [
       "$\\displaystyle \\left[\\begin{matrix}1 & 1 & 1\\\\- \\frac{c}{\\rho} & 0 & \\frac{c}{\\rho}\\\\c^{2} & 0 & c^{2}\\end{matrix}\\right]$"
      ],
      "text/plain": [
       "⎡ 1   1  1 ⎤\n",
       "⎢          ⎥\n",
       "⎢-c      c ⎥\n",
       "⎢───  0  ─ ⎥\n",
       "⎢ ρ      ρ ⎥\n",
       "⎢          ⎥\n",
       "⎢ 2       2⎥\n",
       "⎣c    0  c ⎦"
      ]
     },
     "execution_count": 11,
     "metadata": {},
     "output_type": "execute_result"
    }
   ],
   "source": [
    "R = zeros(3,3)\n",
    "R[:,0] = r[1]\n",
    "R[:,1] = r[0]\n",
    "R[:,2] = r[2]\n",
    "R"
   ]
  },
  {
   "cell_type": "markdown",
   "metadata": {},
   "source": [
    "### Left Eigenvectors"
   ]
  },
  {
   "cell_type": "markdown",
   "metadata": {},
   "source": [
    "The left eigenvectors satisfy:\n",
    "\n",
    "$${\\bf l} {\\bf A} = \\lambda {\\bf l}$$\n",
    "\n",
    "We'll find these by taking the transpose of ${\\bf A}$\n",
    "\n",
    "$$({\\bf l} {\\bf A})^\\intercal = {\\bf A}^\\intercal {\\bf l}^\\intercal = \\lambda {\\bf l}^\\intercal$$\n",
    "\n",
    "Therefore, the transpose of the left eigenvectors, ${\\bf l}^\\intercal$, are the right eigenvectors of transpose of ${\\bf A}$"
   ]
  },
  {
   "cell_type": "code",
   "execution_count": 12,
   "metadata": {
    "collapsed": false,
    "jupyter": {
     "outputs_hidden": false
    }
   },
   "outputs": [
    {
     "data": {
      "image/png": "[encoded data removed]",
      "text/latex": [
       "$\\displaystyle \\left[\\begin{matrix}u & 0 & 0\\\\\\rho & u & c^{2} \\rho\\\\0 & \\frac{1}{\\rho} & u\\end{matrix}\\right]$"
      ],
      "text/plain": [
       "⎡u  0   0  ⎤\n",
       "⎢          ⎥\n",
       "⎢       2  ⎥\n",
       "⎢ρ  u  c ⋅ρ⎥\n",
       "⎢          ⎥\n",
       "⎢   1      ⎥\n",
       "⎢0  ─   u  ⎥\n",
       "⎣   ρ      ⎦"
      ]
     },
     "execution_count": 12,
     "metadata": {},
     "output_type": "execute_result"
    }
   ],
   "source": [
    "B = A.transpose()\n",
    "B"
   ]
  },
  {
   "cell_type": "code",
   "execution_count": 13,
   "metadata": {
    "collapsed": false,
    "jupyter": {
     "outputs_hidden": false
    }
   },
   "outputs": [],
   "source": [
    "L = B.eigenvects()\n",
    "l = []\n",
    "laml = []\n",
    "for (ev, _, ltmp) in L:\n",
    "    l.append(ltmp[0].transpose())\n",
    "    laml.append(ev)\n",
    "    "
   ]
  },
  {
   "cell_type": "markdown",
   "metadata": {},
   "source": [
    "Traditionally, we normalize these such that $l^{(\\mu)} \\cdot r^{(\\nu)} = \\delta_{\\mu\\nu}$"
   ]
  },
  {
   "cell_type": "code",
   "execution_count": 14,
   "metadata": {
    "collapsed": false,
    "jupyter": {
     "outputs_hidden": false
    }
   },
   "outputs": [],
   "source": [
    "for n in range(len(l)):\n",
    "    if lam[n] == laml[n]:\n",
    "        ltmp = l[n]\n",
    "        p = ltmp.dot(r[n])\n",
    "        l[n] = ltmp/p"
   ]
  },
  {
   "cell_type": "markdown",
   "metadata": {},
   "source": [
    "#### 0-th left eigenvector"
   ]
  },
  {
   "cell_type": "code",
   "execution_count": 15,
   "metadata": {
    "collapsed": false,
    "jupyter": {
     "outputs_hidden": false
    }
   },
   "outputs": [
    {
     "data": {
      "image/png": "[encoded data removed]",
      "text/latex": [
       "$\\displaystyle \\left[\\begin{matrix}1 & 0 & - \\frac{1}{c^{2}}\\end{matrix}\\right]$"
      ],
      "text/plain": [
       "⎡      -1 ⎤\n",
       "⎢1  0  ───⎥\n",
       "⎢        2⎥\n",
       "⎣       c ⎦"
      ]
     },
     "execution_count": 15,
     "metadata": {},
     "output_type": "execute_result"
    }
   ],
   "source": [
    "l[0]"
   ]
  },
  {
   "cell_type": "markdown",
   "metadata": {},
   "source": [
    "#### 1-st left eigenvector"
   ]
  },
  {
   "cell_type": "code",
   "execution_count": 16,
   "metadata": {
    "collapsed": false,
    "jupyter": {
     "outputs_hidden": false
    }
   },
   "outputs": [
    {
     "data": {
      "image/png": "[encoded data removed]",
      "text/latex": [
       "$\\displaystyle \\left[\\begin{matrix}0 & - \\frac{\\rho}{2 c} & \\frac{1}{2 c^{2}}\\end{matrix}\\right]$"
      ],
      "text/plain": [
       "⎡   -ρ    1  ⎤\n",
       "⎢0  ───  ────⎥\n",
       "⎢   2⋅c     2⎥\n",
       "⎣        2⋅c ⎦"
      ]
     },
     "execution_count": 16,
     "metadata": {},
     "output_type": "execute_result"
    }
   ],
   "source": [
    "l[1]"
   ]
  },
  {
   "cell_type": "markdown",
   "metadata": {},
   "source": [
    "#### 2-nd left eigenvector"
   ]
  },
  {
   "cell_type": "code",
   "execution_count": 17,
   "metadata": {
    "collapsed": false,
    "jupyter": {
     "outputs_hidden": false
    }
   },
   "outputs": [
    {
     "data": {
      "image/png": "[encoded data removed]",
      "text/latex": [
       "$\\displaystyle \\left[\\begin{matrix}0 & \\frac{\\rho}{2 c} & \\frac{1}{2 c^{2}}\\end{matrix}\\right]$"
      ],
      "text/plain": [
       "⎡    ρ    1  ⎤\n",
       "⎢0  ───  ────⎥\n",
       "⎢   2⋅c     2⎥\n",
       "⎣        2⋅c ⎦"
      ]
     },
     "execution_count": 17,
     "metadata": {},
     "output_type": "execute_result"
    }
   ],
   "source": [
    "l[2]"
   ]
  },
  {
   "cell_type": "markdown",
   "metadata": {},
   "source": [
    "## Entropy formulation\n",
    "\n",
    "here we write the system in terms of ${\\bf q}_s = (\\rho, u, s)^\\intercal$, where the system is\n",
    "\n",
    "$${{\\bf q}_s}_t + {\\bf A}_s({\\bf q}_s) {{\\bf q}_s}_x = 0$$\n",
    "\n",
    "and \n",
    "\n",
    "$$\n",
    "{\\bf A}_s = \\left (\\begin{matrix}u & \\rho & 0\\\\\n",
    "      \\frac{c^{2}}{\\rho} & u & \\frac{p_{s}}{\\rho}\\\\\n",
    "         0 & 0 & u\\end{matrix}\\right)\n",
    "         $$"
   ]
  },
  {
   "cell_type": "code",
   "execution_count": 18,
   "metadata": {
    "collapsed": false,
    "jupyter": {
     "outputs_hidden": false
    }
   },
   "outputs": [
    {
     "data": {
      "image/png": "[encoded data removed]",
      "text/latex": [
       "$\\displaystyle \\left[\\begin{matrix}u & \\rho & 0\\\\\\frac{c^{2}}{\\rho} & u & \\frac{p_{s}}{\\rho}\\\\0 & 0 & u\\end{matrix}\\right]$"
      ],
      "text/plain": [
       "⎡u   ρ  0 ⎤\n",
       "⎢         ⎥\n",
       "⎢ 2       ⎥\n",
       "⎢c      pₛ⎥\n",
       "⎢──  u  ──⎥\n",
       "⎢ρ      ρ ⎥\n",
       "⎢         ⎥\n",
       "⎣0   0  u ⎦"
      ]
     },
     "execution_count": 18,
     "metadata": {},
     "output_type": "execute_result"
    }
   ],
   "source": [
    "ps = symbols('p_s')\n",
    "\n",
    "As = Matrix([[u, rho, 0], [c**2/rho, u, ps/rho], [0, 0, u]])\n",
    "As"
   ]
  },
  {
   "cell_type": "code",
   "execution_count": 19,
   "metadata": {
    "collapsed": false,
    "jupyter": {
     "outputs_hidden": false
    }
   },
   "outputs": [
    {
     "data": {
      "image/png": "[encoded data removed]",
      "text/latex": [
       "$\\displaystyle \\left\\{ u : 1, \\  - c + u : 1, \\  c + u : 1\\right\\}$"
      ],
      "text/plain": [
       "{u: 1, -c + u: 1, c + u: 1}"
      ]
     },
     "execution_count": 19,
     "metadata": {},
     "output_type": "execute_result"
    }
   ],
   "source": [
    "As.eigenvals()"
   ]
  },
  {
   "cell_type": "code",
   "execution_count": 20,
   "metadata": {},
   "outputs": [],
   "source": [
    "R = As.eigenvects()   # this returns a tuple for each eigenvector with multiplicity -- unpack it\n",
    "r = []\n",
    "lam = []\n",
    "for (ev, _, rtmp) in R:\n",
    "    r.append(rtmp[0])\n",
    "    lam.append(ev)\n",
    "    \n",
    "# we can normalize them anyway we want, so let's make the first entry 1\n",
    "for n in range(len(r)):\n",
    "    v = r[n]\n",
    "    r[n] = v/v[0]"
   ]
  },
  {
   "cell_type": "code",
   "execution_count": 21,
   "metadata": {
    "collapsed": false,
    "jupyter": {
     "outputs_hidden": false
    }
   },
   "outputs": [
    {
     "data": {
      "image/png": "[encoded data removed]",
      "text/latex": [
       "$\\displaystyle \\left[\\begin{matrix}1\\\\0\\\\- \\frac{c^{2}}{p_{s}}\\end{matrix}\\right]$"
      ],
      "text/plain": [
       "⎡ 1  ⎤\n",
       "⎢    ⎥\n",
       "⎢ 0  ⎥\n",
       "⎢    ⎥\n",
       "⎢  2 ⎥\n",
       "⎢-c  ⎥\n",
       "⎢────⎥\n",
       "⎣ pₛ ⎦"
      ]
     },
     "execution_count": 21,
     "metadata": {},
     "output_type": "execute_result"
    }
   ],
   "source": [
    "r[0]"
   ]
  },
  {
   "cell_type": "markdown",
   "metadata": {},
   "source": [
    "this corresponds to eigenvalue"
   ]
  },
  {
   "cell_type": "code",
   "execution_count": 23,
   "metadata": {},
   "outputs": [
    {
     "data": {
      "image/png": "[encoded data removed]",
      "text/latex": [
       "$\\displaystyle u$"
      ],
      "text/plain": [
       "u"
      ]
     },
     "execution_count": 23,
     "metadata": {},
     "output_type": "execute_result"
    }
   ],
   "source": [
    "lam[0]"
   ]
  },
  {
   "cell_type": "code",
   "execution_count": 24,
   "metadata": {
    "collapsed": false,
    "jupyter": {
     "outputs_hidden": false
    }
   },
   "outputs": [
    {
     "data": {
      "image/png": "[encoded data removed]",
      "text/latex": [
       "$\\displaystyle \\left[\\begin{matrix}1\\\\- \\frac{c}{\\rho}\\\\0\\end{matrix}\\right]$"
      ],
      "text/plain": [
       "⎡ 1 ⎤\n",
       "⎢   ⎥\n",
       "⎢-c ⎥\n",
       "⎢───⎥\n",
       "⎢ ρ ⎥\n",
       "⎢   ⎥\n",
       "⎣ 0 ⎦"
      ]
     },
     "execution_count": 24,
     "metadata": {},
     "output_type": "execute_result"
    }
   ],
   "source": [
    "r[1]"
   ]
  },
  {
   "cell_type": "markdown",
   "metadata": {},
   "source": [
    "this corresponds to eigenvalue"
   ]
  },
  {
   "cell_type": "code",
   "execution_count": 25,
   "metadata": {},
   "outputs": [
    {
     "data": {
      "image/png": "[encoded data removed]",
      "text/latex": [
       "$\\displaystyle - c + u$"
      ],
      "text/plain": [
       "-c + u"
      ]
     },
     "execution_count": 25,
     "metadata": {},
     "output_type": "execute_result"
    }
   ],
   "source": [
    "lam[1]"
   ]
  },
  {
   "cell_type": "code",
   "execution_count": 26,
   "metadata": {
    "collapsed": false,
    "jupyter": {
     "outputs_hidden": false
    }
   },
   "outputs": [
    {
     "data": {
      "image/png": "[encoded data removed]",
      "text/latex": [
       "$\\displaystyle \\left[\\begin{matrix}1\\\\\\frac{c}{\\rho}\\\\0\\end{matrix}\\right]$"
      ],
      "text/plain": [
       "⎡1⎤\n",
       "⎢ ⎥\n",
       "⎢c⎥\n",
       "⎢─⎥\n",
       "⎢ρ⎥\n",
       "⎢ ⎥\n",
       "⎣0⎦"
      ]
     },
     "execution_count": 26,
     "metadata": {},
     "output_type": "execute_result"
    }
   ],
   "source": [
    "r[2]"
   ]
  },
  {
   "cell_type": "markdown",
   "metadata": {},
   "source": [
    "this corresponds to eigenvalue"
   ]
  },
  {
   "cell_type": "code",
   "execution_count": 27,
   "metadata": {},
   "outputs": [
    {
     "data": {
      "image/png": "[encoded data removed]",
      "text/latex": [
       "$\\displaystyle c + u$"
      ],
      "text/plain": [
       "c + u"
      ]
     },
     "execution_count": 27,
     "metadata": {},
     "output_type": "execute_result"
    }
   ],
   "source": [
    "lam[2]"
   ]
  },
  {
   "cell_type": "markdown",
   "metadata": {},
   "source": [
    "### left eigenvectors"
   ]
  },
  {
   "cell_type": "code",
   "execution_count": 24,
   "metadata": {},
   "outputs": [],
   "source": [
    "Bs = As.transpose()\n",
    "L = B.eigenvects()\n",
    "l = []\n",
    "laml = []\n",
    "for (ev, _, ltmp) in L:\n",
    "    l.append(ltmp[0].transpose())\n",
    "    laml.append(ev)\n",
    "    "
   ]
  },
  {
   "cell_type": "markdown",
   "metadata": {},
   "source": [
    "normalization"
   ]
  },
  {
   "cell_type": "code",
   "execution_count": 25,
   "metadata": {},
   "outputs": [],
   "source": [
    "for n in range(len(l)):\n",
    "    if lam[n] == laml[n]:\n",
    "        ltmp = l[n]\n",
    "        p = ltmp.dot(r[n])\n",
    "        l[n] = ltmp/p"
   ]
  },
  {
   "cell_type": "code",
   "execution_count": 26,
   "metadata": {
    "collapsed": false,
    "jupyter": {
     "outputs_hidden": false
    }
   },
   "outputs": [
    {
     "data": {
      "image/png": "[encoded data removed]",
      "text/latex": [
       "$$\\left[\\begin{matrix}\\frac{p_{s}}{p_{s} + 1} & 0 & - \\frac{p_{s}}{c^{2} \\left(p_{s} + 1\\right)}\\end{matrix}\\right]$$"
      ],
      "text/plain": [
       "⎡  p_s          -p_s     ⎤\n",
       "⎢───────  0  ────────────⎥\n",
       "⎢p_s + 1      2          ⎥\n",
       "⎣            c ⋅(p_s + 1)⎦"
      ]
     },
     "execution_count": 26,
     "metadata": {},
     "output_type": "execute_result"
    }
   ],
   "source": [
    "simplify(l[0])"
   ]
  },
  {
   "cell_type": "code",
   "execution_count": 27,
   "metadata": {
    "collapsed": false,
    "jupyter": {
     "outputs_hidden": false
    }
   },
   "outputs": [
    {
     "data": {
      "image/png": "[encoded data removed]",
      "text/latex": [
       "$$\\left[\\begin{matrix}0 & - \\frac{\\rho}{c} & \\frac{1}{c^{2}}\\end{matrix}\\right]$$"
      ],
      "text/plain": [
       "⎡   -ρ   1 ⎤\n",
       "⎢0  ───  ──⎥\n",
       "⎢    c    2⎥\n",
       "⎣        c ⎦"
      ]
     },
     "execution_count": 27,
     "metadata": {},
     "output_type": "execute_result"
    }
   ],
   "source": [
    "l[1]"
   ]
  },
  {
   "cell_type": "code",
   "execution_count": 28,
   "metadata": {
    "collapsed": false,
    "jupyter": {
     "outputs_hidden": false
    }
   },
   "outputs": [
    {
     "data": {
      "image/png": "[encoded data removed]",
      "text/latex": [
       "$$\\left[\\begin{matrix}0 & \\frac{\\rho}{c} & \\frac{1}{c^{2}}\\end{matrix}\\right]$$"
      ],
      "text/plain": [
       "⎡   ρ  1 ⎤\n",
       "⎢0  ─  ──⎥\n",
       "⎢   c   2⎥\n",
       "⎣      c ⎦"
      ]
     },
     "execution_count": 28,
     "metadata": {},
     "output_type": "execute_result"
    }
   ],
   "source": [
    "l[2]"
   ]
  }
 ],
 "metadata": {
  "kernelspec": {
   "display_name": "Python 3",
   "language": "python",
   "name": "python3"
  },
  "language_info": {
   "codemirror_mode": {
    "name": "ipython",
    "version": 3
   },
   "file_extension": ".py",
   "mimetype": "text/x-python",
   "name": "python",
   "nbconvert_exporter": "python",
   "pygments_lexer": "ipython3",
   "version": "3.8.7"
  }
 },
 "nbformat": 4,
 "nbformat_minor": 4
}
