{
 "cells": [
  {
   "cell_type": "code",
   "execution_count": 2,
   "metadata": {},
   "outputs": [],
   "source": [
    "import matplotlib.pyplot as plt\n",
    "import numpy as np\n",
    "import scipy.optimize as optimize"
   ]
  },
  {
   "cell_type": "markdown",
   "metadata": {
    "slideshow": {
     "slide_type": "slide"
    }
   },
   "source": [
    "# Sampling the Riemann solution"
   ]
  },
  {
   "cell_type": "markdown",
   "metadata": {
    "slideshow": {
     "slide_type": "slide"
    }
   },
   "source": [
    "Once we have the star state, we need to know which state is on the interface of our cells&mdash%that is the state that we will use to evaluate the fluxes through the interface.\n",
    "\n",
    "To determine that state we need to know how fast each of the three waves are moving (and in which direction) and then we simply look for which state is left behind on the interface by the waves moving away from it.\n",
    "\n",
    "![Riemann solution structure](riemann-waves.png)\n",
    "\n",
    "We also know the following about the wave structure:\n",
    "\n",
    "* The middle wave is always a contact discontinuity.  Pressure and velocity are constant across it\n",
    "\n",
    "* The left and right waves are either a shock or rarefaction\n",
    "\n",
    "  * Rarefaction:\n",
    "  \n",
    "    * Entropy is constant across the wave\n",
    "    \n",
    "    * Riemann invariants tell us how to connect the solution across the wave to the star region\n",
    "    \n",
    "  * Shock:\n",
    "  \n",
    "    * Must be dissipative&mdash;entropy is not conserved\n",
    "    \n",
    "    * Jump conditions tell us how to connect to the star state across the shock"
   ]
  },
  {
   "cell_type": "markdown",
   "metadata": {
    "slideshow": {
     "slide_type": "slide"
    }
   },
   "source": [
    "Consider the following 4 cases:\n",
    "\n",
    "![Riemann state](riemann_state.png)"
   ]
  },
  {
   "cell_type": "markdown",
   "metadata": {},
   "source": [
    "Cases (a) and (d) represent supersonic flow to the left or right&mdash;all 3 waves are on one side of the interface.\n",
    "\n",
    "* For case (a), all 3 waves are to the left of the interface, so state $R$ is on the interface.\n",
    "\n",
    "* For case (d) is similar, all 3 waves are to the right of the interface, so state $L$ is on the interface.\n",
    "\n",
    "In cases (b) and (c), one the \"$+$\" and \"$-$\" waves are on either side of the interface and the only difference is the center (\"$0$\") wave, or contact discontinuity.  So we would determine which of the star states is on the interface based on the sign of the contact discontinuity's speed.  \n",
    "\n",
    "* For case (b), the contact is moving to the left so $R_\\star$ state is on the interface\n",
    "\n",
    "* For case (c), the contact is moving to the right, so the $L_\\star$ state is on the interface."
   ]
  },
  {
   "cell_type": "markdown",
   "metadata": {},
   "source": [
    "## Wave speeds\n",
    "\n",
    "### Shock case\n",
    "\n",
    "For a shock, the speed of the shock comes from the Rankine-Hugoniot conditions.\n",
    "\n",
    "For the left wave, the shock speed is:\n",
    "\n",
    "$$\n",
    "S = u_L - c_L \\sqrt{\\frac{\\gamma + 1}{2\\gamma} \\left (\\frac{p_\\star}{p_L} \\right ) + \\frac{\\gamma -1}{2\\gamma}}\n",
    "$$\n",
    "\n",
    "For the right wave, it is:\n",
    "\n",
    "$$\n",
    "S = u_R + c_R \\sqrt{\\frac{\\gamma + 1}{2\\gamma} \\left (\\frac{p_\\star}{p_R} \\right ) + \\frac{\\gamma -1}{2\\gamma}}\n",
    "$$\n",
    "\n",
    "### Contact discontinuity\n",
    "\n",
    "A contact discontinuity propagates in the star region, and the velocity there is $u_\\star$ and is constant in that region, so the contact just propagates at this speed:\n",
    "\n",
    "$$S_0 = u_\\star$$\n",
    "\n",
    "### Rarefaction\n",
    "\n",
    "A rarefaction is subsonic, but it is spread out (it is not a discontinuity).  We call the leading part the \"head\" and the trailing part the \"tail\".  The head and tail move at different speeds, just $u \\pm c$ corresponding to the region they abut.\n",
    "\n",
    "For a left rarefaction:\n",
    "\n",
    "$$S_\\mathrm{head} = u_L - c_L$$\n",
    "$$S_\\mathrm{tail} = u_\\star - c_\\star$$\n",
    "\n",
    "For a right rarefaction:\n",
    "\n",
    "$$S_\\mathrm{head} = u_R + c_R$$\n",
    "$$S_\\mathrm{tail} = u_\\star + c_\\star$$\n",
    "\n",
    "Note that $|S_\\mathrm{head}| > |S_\\mathrm{tail}|$, so the rarefaction spreads out over time. \n",
    "\n",
    "Also, it is possible for the rarefaction to span the interface&mdash;with the head on one side and the tail on the other.  We'll deal with this shortly."
   ]
  },
  {
   "cell_type": "markdown",
   "metadata": {},
   "source": [
    "### Density\n",
    "\n",
    "To compute the rarefaction speed, we need to know the density in the star state (so we can evaluate $c_\\star$).  We will need this anyway for either a shock or a rarefaction to compute the final fluxes if a star state is on the interface.\n",
    "\n",
    "For a rarefaction, since entropy is constant, we have:\n",
    "\n",
    "$$\\frac{p_s}{\\rho_s^\\gamma} = \\frac{p_\\star}{\\rho_{\\star,s}^\\gamma}$$\n",
    "\n",
    "where $s \\in {L, R}$ is the state outside of the star region.\n",
    "\n",
    "For a shock, the jump conditions tell us the density:\n",
    "\n",
    "$$\\rho_{\\star,s} = {\\rho_s} \\frac{\\frac{p_\\star}{p_s} + \\frac{\\gamma-1}{\\gamma+1}}{\\frac{p_\\star}{p_s}\\frac{\\gamma-1}{\\gamma+1} + 1}$$\n"
   ]
  },
  {
   "cell_type": "markdown",
   "metadata": {},
   "source": [
    "### Sampling\n",
    "\n",
    "The sampling procedure is the following:\n",
    "\n",
    "* Look at the sign of the contact speed, $S_0$:\n",
    "\n",
    "  * If $S_0 > 0$ then we are either in the $L$ or $L_\\star$ state\n",
    "  \n",
    "    * Look at the speed of the left shock or rarefaction to determine\n",
    "      if we are in the $L$ or $L_\\star$ state\n",
    "\n",
    "  * If $S_0 < 0$ then we are either in the $R$ or $R_\\star$ state\n",
    "\n",
    "    * Look at the speed of the right shock or rarefaction to determine\n",
    "      if we are in the $R$ or $R_\\star$ state\n",
    "\n",
    "The one catch is when the rarefaction spans the interface, e.g., $S_\\mathrm{head} < 0 < S_\\mathrm{tail}$ for a left rarefaction.\n",
    "\n",
    "![rarefaction spanning the interface](rarefaction_span.png)\n",
    "\n",
    "In this case, we would use the Riemann invariant to find the state at the location of the interface inside the structure of the rarefaction."
   ]
  },
  {
   "cell_type": "markdown",
   "metadata": {},
   "source": [
    "### Implementation\n",
    "\n",
    "Here we extend our `RiemannProblem` class to add methods to find the solution if we are a shock or rarefaction and to do the sampling:"
   ]
  },
  {
   "cell_type": "code",
   "execution_count": 4,
   "metadata": {},
   "outputs": [],
   "source": [
    "class State:\n",
    "    \"\"\" a simple object to hold a primitive variable state \"\"\"\n",
    "\n",
    "    def __init__(self, p=1.0, u=0.0, rho=1.0):\n",
    "        self.p = p\n",
    "        self.u = u\n",
    "        self.rho = rho\n",
    "\n",
    "    def __str__(self):\n",
    "        return f\"rho: {self.rho}; u: {self.u}; p: {self.p}\"\n",
    "\n",
    "class RiemannProblem:\n",
    "    \"\"\" a class to define a Riemann problem.  It takes a left\n",
    "        and right state.  Note: we assume a constant gamma \"\"\"\n",
    "\n",
    "    def __init__(self, left_state, right_state, gamma=1.4):\n",
    "        self.left = left_state\n",
    "        self.right = right_state\n",
    "        self.gamma = gamma\n",
    "\n",
    "        self.ustar = None\n",
    "        self.pstar = None\n",
    "\n",
    "    def __str__(self):\n",
    "        return f\"pstar = {self.pstar}, ustar = {self.ustar}\"\n",
    "\n",
    "    def u_hugoniot(self, p, side):\n",
    "        \"\"\"define the Hugoniot curve, u(p).\"\"\"\n",
    "\n",
    "        if side == \"left\":\n",
    "            state = self.left\n",
    "            s = 1.0\n",
    "        elif side == \"right\":\n",
    "            state = self.right\n",
    "            s = -1.0\n",
    "\n",
    "        c = np.sqrt(self.gamma*state.p/state.rho)\n",
    "\n",
    "        if p < state.p:\n",
    "            # rarefaction\n",
    "            u = state.u + s*(2.0*c/(self.gamma-1.0))* \\\n",
    "                (1.0 - (p/state.p)**((self.gamma-1.0)/(2.0*self.gamma)))\n",
    "        else:\n",
    "            # shock\n",
    "            beta = (self.gamma+1.0)/(self.gamma-1.0)\n",
    "            u = state.u + s*(2.0*c/np.sqrt(2.0*self.gamma*(self.gamma-1.0)))* \\\n",
    "                (1.0 - p/state.p)/np.sqrt(1.0 + beta*p/state.p)\n",
    "\n",
    "        return u\n",
    "\n",
    "    def find_star_state(self, p_min=0.001, p_max=1000.0):\n",
    "        \"\"\" root find the Hugoniot curve to find ustar, pstar \"\"\"\n",
    "\n",
    "        # we need to root-find on\n",
    "        self.pstar = optimize.brentq(\n",
    "            lambda p: self.u_hugoniot(p, \"left\") - self.u_hugoniot(p, \"right\"),\n",
    "            p_min, p_max)\n",
    "        self.ustar = self.u_hugoniot(self.pstar, \"left\")\n",
    "\n",
    "\n",
    "    def shock_solution(self, sgn, state):\n",
    "        \"\"\"return the interface solution considering a shock\"\"\"\n",
    "\n",
    "        p_ratio = self.pstar/state.p\n",
    "        c = np.sqrt(self.gamma*state.p/state.rho)\n",
    "\n",
    "        # Toro, eq. 4.52 / 4.59\n",
    "        S = state.u + sgn*c*np.sqrt(0.5*(self.gamma + 1.0)/self.gamma*p_ratio +\n",
    "                                    0.5*(self.gamma - 1.0)/self.gamma)\n",
    "\n",
    "        # are we to the left or right of the shock?\n",
    "        if (self.ustar < 0 and S < 0) or (self.ustar > 0 and S > 0):\n",
    "            # R/L region\n",
    "            solution = state\n",
    "        else:\n",
    "            # * region -- get rhostar from Toro, eq. 4.50 / 4.57\n",
    "            gam_fac = (self.gamma - 1.0)/(self.gamma + 1.0)\n",
    "            rhostar = state.rho * (p_ratio + gam_fac)/(gam_fac * p_ratio + 1.0)\n",
    "            solution = State(rho=rhostar, u=self.ustar, p=self.pstar)\n",
    "\n",
    "        return solution\n",
    "\n",
    "    def rarefaction_solution(self, sgn, state):\n",
    "        \"\"\"return the interface solution considering a rarefaction wave\"\"\"\n",
    "\n",
    "        # find the speed of the head and tail of the rarefaction fan\n",
    "\n",
    "        # isentropic (Toro eq. 4.54 / 4.61)\n",
    "        p_ratio = self.pstar/state.p\n",
    "        c = np.sqrt(self.gamma*state.p/state.rho)\n",
    "        cstar = c*p_ratio**((self.gamma-1.0)/(2*self.gamma))\n",
    "\n",
    "        lambda_head = state.u + sgn*c\n",
    "        lambda_tail = self.ustar + sgn*cstar\n",
    "\n",
    "        gam_fac = (self.gamma - 1.0)/(self.gamma + 1.0)\n",
    "\n",
    "        if (sgn > 0 and lambda_head < 0) or (sgn < 0 and lambda_head > 0):\n",
    "            # R/L region\n",
    "            solution = state\n",
    "\n",
    "        elif (sgn > 0 and lambda_tail > 0) or (sgn < 0 and lambda_tail < 0):\n",
    "            # * region, we use the isentropic density (Toro 4.53 / 4.60)\n",
    "            solution = State(rho = state.rho*p_ratio**(1.0/self.gamma),\n",
    "                             u = self.ustar, p = self.pstar)\n",
    "\n",
    "        else:\n",
    "            # we are in the fan -- Toro 4.56 / 4.63\n",
    "            rho = state.rho * (2/(self.gamma + 1.0) -\n",
    "                               sgn*gam_fac*state.u/c)**(2.0/(self.gamma-1.0))\n",
    "            u = 2.0/(self.gamma + 1.0) * ( -sgn*c + 0.5*(self.gamma - 1.0)*state.u)\n",
    "            p = state.p * (2/(self.gamma + 1.0) -\n",
    "                           sgn*gam_fac*state.u/c)**(2.0*self.gamma/(self.gamma-1.0))\n",
    "            solution = State(rho=rho, u=u, p=p)\n",
    "\n",
    "        return solution\n",
    "\n",
    "    def sample_solution(self):\n",
    "        \"\"\"given the star state (ustar, pstar), find the state on the interface\"\"\"\n",
    "\n",
    "        if self.ustar < 0:\n",
    "            # we are in the R* or R region\n",
    "            state = self.right\n",
    "            sgn = 1.0\n",
    "        else:\n",
    "            # we are in the L* or L region\n",
    "            state = self.left\n",
    "            sgn = -1.0\n",
    "\n",
    "        # is the non-contact wave a shock or rarefaction?\n",
    "        if self.pstar > state.p:\n",
    "            # compression! we are a shock\n",
    "            solution = self.shock_solution(sgn, state)\n",
    "\n",
    "        else:\n",
    "            # rarefaction\n",
    "            solution = self.rarefaction_solution(sgn, state)\n",
    "\n",
    "        return solution"
   ]
  },
  {
   "cell_type": "code",
   "execution_count": 5,
   "metadata": {},
   "outputs": [
    {
     "name": "stdout",
     "output_type": "stream",
     "text": [
      "rho: 0.4263194281784952; u: 0.9274526200489498; p: 0.30313017805064685\n"
     ]
    }
   ],
   "source": [
    "left = State(p=1.0, u=0.0, rho=1.0)\n",
    "right = State(p=0.1, u=0.0, rho=0.125)\n",
    "\n",
    "rp = RiemannProblem(left, right)\n",
    "rp.find_star_state()\n",
    "\n",
    "interface_state = rp.sample_solution()\n",
    "print(interface_state)"
   ]
  },
  {
   "cell_type": "markdown",
   "metadata": {},
   "source": [
    "Once we have the interface state, we can compute the conservative fluxes:\n",
    "\n",
    "$$F_{i+1/2} = \\left ( \\begin{array}{c}\n",
    "                             \\rho_{i+1/2} u_{i+1/2} \\\\\n",
    "                             \\rho_{i+1/2} (u_{i+1/2})^2 + p_{i+1/2} \\\\\n",
    "                             u_{i+1/2} p_{i+1/2} / (\\gamma - 1)  +\n",
    "                             \\frac{1}{2} \\rho_{i+1/2} (u_{i+1/2})^3 +\n",
    "                             u_{i+1/2} p_{i+1/2}\n",
    "                            \\end{array} \\right )$$"
   ]
  },
  {
   "cell_type": "code",
   "execution_count": null,
   "metadata": {},
   "outputs": [],
   "source": []
  }
 ],
 "metadata": {
  "kernelspec": {
   "display_name": "Python 3 (ipykernel)",
   "language": "python",
   "name": "python3"
  },
  "language_info": {
   "codemirror_mode": {
    "name": "ipython",
    "version": 3
   },
   "file_extension": ".py",
   "mimetype": "text/x-python",
   "name": "python",
   "nbconvert_exporter": "python",
   "pygments_lexer": "ipython3",
   "version": "3.10.5"
  }
 },
 "nbformat": 4,
 "nbformat_minor": 4
}
