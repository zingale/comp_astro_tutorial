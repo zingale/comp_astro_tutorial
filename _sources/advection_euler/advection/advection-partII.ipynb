{
 "cells": [
  {
   "cell_type": "code",
   "execution_count": 2,
   "metadata": {},
   "outputs": [],
   "source": [
    "import numpy as np\n",
    "import matplotlib.pyplot as plt"
   ]
  },
  {
   "cell_type": "markdown",
   "metadata": {},
   "source": [
    "# Finite-Volumes"
   ]
  },
  {
   "cell_type": "markdown",
   "metadata": {},
   "source": [
    "Ultimately we are interested in conservation laws, so we want a method that respects conservation.  We'll look at this with advection first.\n",
    "\n",
    "Here we see 3 different types of grids:\n",
    "\n",
    "![discretization types](grids.png)\n",
    "\n",
    "The first 2 are *finite-difference* grids&mdash;the data is represented at a specific point in the domain.  The two differ in that the second case is a cell-centered finite-difference grid.  In this case, there is not a point on the physical boundaries, while with the first example (what we were using previously), there is a data point on each boundary.  For the cell-centered case, we typically talk about dividing the data into cells or zones and the data living at the center of the zone.\n",
    "\n",
    "The last example is a *finite-volume* grid.  Here, we don't think of the data living at a specific point, but instead we keep track of the total amount of a quantity (or its average) in a volume.  This is represented above as the shaded region inside our zone."
   ]
  },
  {
   "cell_type": "markdown",
   "metadata": {},
   "source": [
    "## Cell-averages\n",
    "\n",
    "Imagine we have a function $f(x)$ that we wish to represent on our grid, using a finite-volume discretization.\n",
    "\n",
    "![finite-volume grid](fv_grid.png)\n",
    "\n",
    "We can define the average of $f(x)$ in a zone that goes from $x_{i-1/2}$ to $x_{i+1/2}$ as:\n",
    "\n",
    "$$\\langle f\\rangle_i = \\frac{1}{\\Delta x} \\int_{x_{i-1/2}}^{x_{i+1/2}}f(x) dx$$\n",
    "\n",
    "We use the angle brackets to indicate that this is an average, and use an integer index, $i$, to indicate that this data lives in zone $i$."
   ]
  },
  {
   "cell_type": "markdown",
   "metadata": {},
   "source": [
    "Now consider our linear advection equation,\n",
    "\n",
    "$$\\frac{\\partial a}{\\partial t} = -u\\frac{\\partial a}{\\partial x}$$\n",
    "\n",
    "written in conservative form:\n",
    "\n",
    "$$\\frac{\\partial a}{\\partial t} = -\\frac{\\partial F(a)}{\\partial x}$$\n",
    "\n",
    "where $F(a) = ua$ is the flux.\n",
    "\n",
    "Let's average (integrate) this equation over a zone (from $[x_{i-1/2}, x_{i+1/2}]$):\n",
    "\n",
    "$$\\frac{1}{\\Delta x} \\int_{x-1/2}^{x+1/2} \\frac{\\partial a}{\\partial t} dx = \n",
    "   -\\frac{1}{\\Delta x} \\int_{x-1/2}^{x+1/2} \\frac{\\partial F}{\\partial x} dx$$\n",
    "   \n",
    "we can recognize the left is the time-derivative of the average of $a$ and the right, via the divergence theorem is just the flux different through the boundary of the zone:\n",
    "\n",
    "$$\\frac{\\partial}{\\partial t} \\langle a\\rangle_i = -\\frac{1}{\\Delta x}\n",
    "   \\left [ F_{i+1/2} - F_{i-1/2} \\right ]$$"
   ]
  },
  {
   "cell_type": "markdown",
   "metadata": {},
   "source": [
    "## Time update"
   ]
  },
  {
   "cell_type": "markdown",
   "metadata": {},
   "source": [
    "Let's start with a first-order update in time.  We can use the Euler method we already saw,\n",
    "\n",
    "$$\\frac{\\partial \\langle a \\rangle}{\\partial t} \\approx \\frac{\\langle a\\rangle^{n+1} - \\langle a\\rangle^{n}}{\\Delta t}$$\n",
    "\n",
    "in which case our update appears as:\n",
    "\n",
    "$$\\langle a\\rangle_i^{n+1} = \\langle a\\rangle_i^{n} - \\frac{\\Delta t}{\\Delta x} (F_{i+1/2}^n - F_{i-1/2}^n)$$\n",
    "\n",
    "We expect this to be first order accurate in time.  Notice that the fluxes are evaluated at the old time."
   ]
  },
  {
   "cell_type": "markdown",
   "metadata": {},
   "source": [
    "## Reconstruction and the Riemann problem"
   ]
  },
  {
   "cell_type": "markdown",
   "metadata": {},
   "source": [
    "We need the value of the flux on the interface, $F_{i+1/2}$, we find this using the analytic expression\n",
    "for the flux, $F(a)$, as:\n",
    "\n",
    "$$[F(a)]_{i+1/2} = F(a_{i+1/2})$$\n",
    "\n",
    "So now we need to find the interface state, $a_{i+1/2}$.  \n",
    "\n",
    "Getting the value of $a$ on the interface from the average, $\\langle a \\rangle$ is called *reconstruction*.  It means we need to infer how $a$ actually varies throughout the cell just from the information we have about its average value.  There are a variety of methods we can use (some of which we will explore later).  For now, we will do the simplest, and assume that $a(x)$ is constant in each cell:\n",
    "\n",
    "$$a_{i+1/2,L} = a_i^n$$\n",
    "$$a_{i+1/2,R} = a_{i+1}^n$$\n",
    "\n",
    "Notice that we actually have 2 values for the interface state when we do this, one coming from each side of the interface&mdash;we label these as the left and right states:\n",
    "\n",
    "![left and right states for advection](riemann-adv-mol.png)"
   ]
  },
  {
   "cell_type": "markdown",
   "metadata": {},
   "source": [
    "Now we need to resolve this degeneracy&mdash;which of the two states (or what combination of them) is the correct interface state?  This is where the physics of the problem comes into play.  This is called the *Riemann problem*.\n",
    "\n",
    "For advection it is easy.  We know that for $u > 0$ that $a(x)$ moves from left to right, so the correct state on the interface is the left state&mdash;this is upwinding.\n",
    "\n",
    "$$\n",
    "a_{i+1/2} = \\mathcal{R}(a_{i+1/2,L}, a_{i+1/2,R}) = \n",
    "\\left \\{ \n",
    "\\begin{array}{c}\n",
    " a_{i+1/2,L} \\quad u > 0 \\\\\n",
    " a_{i+1/2,R} \\quad u < 0 \n",
    "\\end{array}\n",
    "\\right .\n",
    "$$\n",
    "\n",
    "where we indicate the Riemann problem as $\\mathcal{R}(a_{i+1/2,L},a_{i+1/2,R})$."
   ]
  },
  {
   "cell_type": "markdown",
   "metadata": {},
   "source": [
    "For the advection equation, with $u > 0$, our interface states are \n",
    "\n",
    "$$F_{i+1/2} = F(a_{i+1/2}) = u a_{i+1/2} = u \\langle a \\rangle_i$$\n",
    "\n",
    "$$F_{i-1/2} = F(a_{i-1/2}) = u a_{i-1/2} = u \\langle a \\rangle_{i-1}$$\n",
    "\n",
    "Inserting these into our difference equation, we have:\n",
    "\n",
    "$$\\langle a \\rangle_i^{n+1} = \\langle a \\rangle_i^n - \\frac{u \\Delta t}{\\Delta x} (\\langle a \\rangle_i^n - \\langle a \\rangle_{i-1}^n)$$\n",
    "\n",
    "This is precisely the upwind finite-difference scheme we saw earlier."
   ]
  },
  {
   "cell_type": "code",
   "execution_count": null,
   "metadata": {},
   "outputs": [],
   "source": []
  }
 ],
 "metadata": {
  "kernelspec": {
   "display_name": "Python 3",
   "language": "python",
   "name": "python3"
  },
  "language_info": {
   "codemirror_mode": {
    "name": "ipython",
    "version": 3
   },
   "file_extension": ".py",
   "mimetype": "text/x-python",
   "name": "python",
   "nbconvert_exporter": "python",
   "pygments_lexer": "ipython3",
   "version": "3.8.7"
  }
 },
 "nbformat": 4,
 "nbformat_minor": 4
}
