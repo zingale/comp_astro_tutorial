{
 "cells": [
  {
   "cell_type": "markdown",
   "metadata": {},
   "source": [
    "# Exercises"
   ]
  },
  {
   "cell_type": "markdown",
   "metadata": {},
   "source": [
    "<div class=\"alert alert-block alert-info\">\n",
    "\n",
    "**1. Conservative vs. non-conservative form:**\n",
    "    \n",
    "Let's consider a finite difference approximation to Burgers' equation.  For simplicity, let's assume that $u > 0$ always.  We can discretize it to first-order accuracy using upwinding in conservation form:\n",
    "\n",
    "$$\\frac{u_i^{n+1} - u_i^n}{\\Delta t} = \\frac{1}{\\Delta x} \\left (\\frac{1}{2} (u_i^n )^2 - \\frac{1}{2} (u_{i-1}^n)^2 \\right )$$\n",
    "    \n",
    "or in the original differential form as:\n",
    "    \n",
    "$$\\frac{u_i^{n+1} - u_i^n}{\\Delta t} = u_i^n \\frac{u_i^n - u_{i-1}^n}{\\Delta x}$$\n",
    "    \n",
    "Now consider the follow set of initial conditions:\n",
    "    \n",
    "$$u(x, t=0) = \\left \\{ \\begin{array}{c} 2 & \\mbox{if}~ x < 1/2 \\\\\n",
    "                                     1 & \\mbox{if}~ x \\ge 1/2 \\end{array} \\right .$$\n",
    "    \n",
    "This will drive a rightward moving shock with a speed $S = 3/2$.\n",
    "    \n",
    "Code up both of the above discretizations and measure the speed of the shock---which method gets it correct?\n",
    "</div>"
   ]
  },
  {
   "cell_type": "code",
   "execution_count": null,
   "metadata": {},
   "outputs": [],
   "source": []
  }
 ],
 "metadata": {
  "kernelspec": {
   "display_name": "Python 3",
   "language": "python",
   "name": "python3"
  },
  "language_info": {
   "codemirror_mode": {
    "name": "ipython",
    "version": 3
   },
   "file_extension": ".py",
   "mimetype": "text/x-python",
   "name": "python",
   "nbconvert_exporter": "python",
   "pygments_lexer": "ipython3",
   "version": "3.8.7"
  }
 },
 "nbformat": 4,
 "nbformat_minor": 4
}
