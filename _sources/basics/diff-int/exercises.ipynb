{
 "cells": [
  {
   "cell_type": "code",
   "execution_count": 55,
   "metadata": {},
   "outputs": [],
   "source": [
    "import numpy as np\n",
    "import matplotlib.pyplot as plt\n",
    "\n",
    "from scipy import special"
   ]
  },
  {
   "cell_type": "markdown",
   "metadata": {},
   "source": [
    "# Exercises"
   ]
  },
  {
   "cell_type": "markdown",
   "metadata": {},
   "source": [
    "<div class=\"alert alert-block alert-info\">\n",
    "\n",
    "**1. Second derivative**\n",
    "\n",
    "We can compute a second derivative in the same fashion as we did for the first derivative&mdash;starting with the Taylor expansion about $x_i$ and solving for the second derivative approximation at $i$.\n",
    "    \n",
    "Work out the Taylor expansion and compute the second derivative of $f(x) = \\sin(x)$ on a grid of 10 points from $[0, \\pi]$ at the point `x[3]`.\n",
    "    \n",
    "</div>"
   ]
  },
  {
   "cell_type": "markdown",
   "metadata": {},
   "source": [
    "Consider the two Taylor expansions from before:\n",
    "\n",
    "$$f_{i+1} = f_i + \\Delta x \\left .\\frac{df}{dx} \\right |_i +\n",
    "\\frac{1}{2} \\Delta x^2 \\left . \\frac{d^2f}{dx^2} \\right |_i +\n",
    "\\frac{1}{6} \\Delta x^3 \\left . \\frac{d^3f}{dx^3} \\right |_i +\n",
    "\\mathcal{O}(\\Delta x^4)$$\n",
    "\n",
    "and\n",
    "\n",
    "$$f_{i-1} = f_i - \\Delta x \\left .\\frac{df}{dx} \\right |_i +\n",
    "\\frac{1}{2} \\Delta x^2 \\left . \\frac{d^2f}{dx^2} \\right |_i -\n",
    "\\frac{1}{6} \\Delta x^3 \\left . \\frac{d^3f}{dx^3} \\right |_i +\n",
    "\\mathcal{O}(\\Delta x^4)$$\n",
    "\n",
    "Now add them, instead of subtracting them:\n",
    "\n",
    "$$f_{i+1} + f_{i-1} = 2 f_i + \\Delta x^2 \\left . \\frac{d^2f}{dx^2} \\right |_i + \\mathcal{O}(\\Delta x^4)$$\n",
    "\n",
    "and solve for the second derivative\n",
    "\n",
    "$$\\left . \\frac{d^2f}{dx^2} \\right |_i = \\frac{f_{i+1} - 2 f_i + f_{i-1}}{\\Delta x^2} + \\mathcal{O}(\\Delta x^2)$$"
   ]
  },
  {
   "cell_type": "code",
   "execution_count": 39,
   "metadata": {},
   "outputs": [
    {
     "name": "stdout",
     "output_type": "stream",
     "text": [
      "-0.8073548874068714 -0.8090169943749475\n"
     ]
    }
   ],
   "source": [
    "x = np.linspace(0, np.pi, 20, endpoint=False)\n",
    "\n",
    "def f(x):\n",
    "    return np.sin(x)\n",
    "\n",
    "def second_deriv(x, idx):\n",
    "    dx = x[idx] - x[idx-1]\n",
    "    return (f(x[idx+1]) - 2*f(x[idx]) + f(x[idx-1]))/dx**2\n",
    "\n",
    "print(second_deriv(x, 6), -np.sin(x[6]))"
   ]
  },
  {
   "cell_type": "markdown",
   "metadata": {},
   "source": [
    "<div class=\"alert alert-block alert-info\">\n",
    "\n",
    "**2. Integrating to infinity**\n",
    "\n",
    "If our integration limits extend to infinity, we cannot divide the infinite domain into slabs and compute the area under them directly.  Instead we transform the integral.  Consider the gamma function:\n",
    "\n",
    "$$\n",
    "\\Gamma(a) = \\int_0^\\infty x^{a-1} e^{-x} dx\n",
    "$$\n",
    "\n",
    "The integrand has a maximum at $x = a-1$.\n",
    "    \n",
    "To evaluate this numerically, consider a variable transformation of the form:\n",
    "\n",
    "$$\n",
    "z = \\frac{x}{c + x}\n",
    "$$\n",
    "\n",
    "with $c = a - 1$, corresponding to the maximum of the integrand.\n",
    "\n",
    "With this change of variables, we map $x \\in [0, \\infty)$ to $z \\in [0, 1]$.  (Note: this transformation should only\n",
    "be used for $a > 1$).\n",
    "    \n",
    "Reexpress the integral in terms of $z$ and do the numerical integration.  Compare to the true value of $\\Gamma(a)$ for a few values of $a > 1$.\n",
    "    \n",
    "(based on Newman)\n",
    "    \n",
    "</div>"
   ]
  },
  {
   "cell_type": "markdown",
   "metadata": {},
   "source": [
    "Our change of variables is:\n",
    "\n",
    "$$ x = c \\frac{z}{1-z}$$\n",
    "\n",
    "and\n",
    "\n",
    "$$dx = \\frac{cdz}{(1-z)^2}$$\n",
    "\n",
    "so our integral:\n",
    "\n",
    "$$\n",
    "\\Gamma(a) = \\int_0^\\infty \\phi(x) dx$$\n",
    "\n",
    "becomes\n",
    "\n",
    "$$\\Gamma(a) = c \\int_0^1 \\phi\\left (c \\frac{z}{1-z}\\right ) (1 - z)^{-2} dz$$\n",
    "\n",
    "Our code is:"
   ]
  },
  {
   "cell_type": "code",
   "execution_count": 56,
   "metadata": {},
   "outputs": [
    {
     "name": "stdout",
     "output_type": "stream",
     "text": [
      "0.8862007113724986\n"
     ]
    }
   ],
   "source": [
    "# this is a safety factor to prevent NaNs\n",
    "SMALL = 1.e-20\n",
    "\n",
    "def integrand(x, a):\n",
    "    \"\"\" the original integrand of our integral\"\"\"\n",
    "    \n",
    "    # note for a != 1, the integrand is 0 if x == 0\n",
    "\n",
    "    return np.where(x > 0.0,\n",
    "                    x**(a-1)*np.exp(-x), 0.0)\n",
    "\n",
    "def zv(x, a):\n",
    "    \"\"\" transform the variable x -> z \"\"\"\n",
    "    c = a - 1.0\n",
    "    return x/(c + x) \n",
    "\n",
    "def xv(z, a):\n",
    "    \"\"\" transform back from z -> x \"\"\"\n",
    "    c = a - 1.0\n",
    "    return c*z/(1.0 - z + SMALL)\n",
    "\n",
    "def gamma_integral(a, npts):\n",
    "    \"\"\" integrate the gamma function \"\"\"\n",
    "    \n",
    "    z = np.linspace(0.0, 1.0, npts)\n",
    "\n",
    "    # do the integral via the trapezoid rule.  We will integrate\n",
    "    # over z = [0, 1].  Our integral, with our change of coords\n",
    "    # is \n",
    "    #\n",
    "    # I = c int_0^1 f( (z/(1-z)) ) dz/(1-z)^2\n",
    "    \n",
    "    I = 0.0\n",
    "    f = integrand(xv(z, a), a)\n",
    "    c = a - 1.0\n",
    "\n",
    "    for n in range(1, npts):\n",
    "        I += 0.5*(z[n] - z[n-1])*(f[n]/(1.0 - z[n] + SMALL)**2 + \n",
    "                                  f[n-1]/(1.0 - z[n-1] + SMALL)**2)\n",
    "    I *= c\n",
    "\n",
    "    return I\n",
    "\n",
    "a = 1.5\n",
    "N = 200\n",
    "I = gamma_integral(a, N)\n",
    "print(I)"
   ]
  },
  {
   "cell_type": "markdown",
   "metadata": {},
   "source": [
    "We can compare to the value from scipy"
   ]
  },
  {
   "cell_type": "code",
   "execution_count": 57,
   "metadata": {},
   "outputs": [
    {
     "data": {
      "text/plain": [
       "0.8862269254527579"
      ]
     },
     "execution_count": 57,
     "metadata": {},
     "output_type": "execute_result"
    }
   ],
   "source": [
    "special.gamma(a)"
   ]
  },
  {
   "cell_type": "markdown",
   "metadata": {},
   "source": [
    "Note: this change of variables is designed to put the peak of the integrand at $z = 1/2$.  We can see that by plotting."
   ]
  },
  {
   "cell_type": "code",
   "execution_count": 58,
   "metadata": {},
   "outputs": [
    {
     "data": {
      "text/plain": [
       "[<matplotlib.lines.Line2D at 0x7f76733e0ac0>]"
      ]
     },
     "execution_count": 58,
     "metadata": {},
     "output_type": "execute_result"
    },
    {
     "data": {
      "image/png": "[encoded data removed]",
      "text/plain": [
       "<Figure size 432x288 with 2 Axes>"
      ]
     },
     "metadata": {
      "needs_background": "light"
     },
     "output_type": "display_data"
    }
   ],
   "source": [
    "a = 1.5\n",
    "\n",
    "fig = plt.figure()\n",
    "ax = fig.add_subplot(121)\n",
    "\n",
    "x = np.linspace(0, 10, 100)\n",
    "ax.plot(x, integrand(x, a))\n",
    "#ax.set_yscale(\"log\")\n",
    "\n",
    "ax = fig.add_subplot(122)\n",
    "z = np.linspace(0, 1, 100)\n",
    "ax.plot(z, integrand(xv(z, a), a))\n",
    "#ax.set_yscale(\"log\")"
   ]
  },
  {
   "cell_type": "code",
   "execution_count": null,
   "metadata": {},
   "outputs": [],
   "source": []
  }
 ],
 "metadata": {
  "kernelspec": {
   "display_name": "Python 3",
   "language": "python",
   "name": "python3"
  },
  "language_info": {
   "codemirror_mode": {
    "name": "ipython",
    "version": 3
   },
   "file_extension": ".py",
   "mimetype": "text/x-python",
   "name": "python",
   "nbconvert_exporter": "python",
   "pygments_lexer": "ipython3",
   "version": "3.8.7"
  }
 },
 "nbformat": 4,
 "nbformat_minor": 4
}
