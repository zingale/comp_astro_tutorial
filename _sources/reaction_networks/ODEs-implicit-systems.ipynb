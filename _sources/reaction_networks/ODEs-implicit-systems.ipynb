{
 "cells": [
  {
   "cell_type": "code",
   "execution_count": 1,
   "metadata": {
    "tags": [
     "hide-cell"
    ]
   },
   "outputs": [],
   "source": [
    "import numpy as np\n",
    "import matplotlib.pyplot as plt\n",
    "import matplotlib as mpl\n",
    "mpl.rcParams['figure.dpi'] = 100\n",
    "mpl.rcParams['figure.figsize'] = (10, 8)"
   ]
  },
  {
   "cell_type": "markdown",
   "metadata": {},
   "source": [
    "# Implicit Methods for Systems of ODEs"
   ]
  },
  {
   "cell_type": "markdown",
   "metadata": {},
   "source": [
    "## Linear system\n",
    "\n",
    "Consider the linear system of ODEs\n",
    "\n",
    "$$\\frac{dX_A}{dt} = -\\alpha X_A + \\beta X_B$$ \n",
    "\n",
    "$$\\frac{dX_B}{dt} = \\alpha X_A - \\beta X_B$$\n",
    "\n",
    "(system from F. Timmes summer school notes).  We will take:\n",
    "\n",
    "$$X_A + X_B = 1$$\n",
    "\n",
    "\n",
    "\n",
    "In matrix form, we can write this as:\n",
    "\n",
    "$$\\frac{d}{dt} \\left ( \\begin{array}{c}\n",
    "                                 X_A \\\\ X_B \n",
    "                                \\end{array} \\right ) \n",
    "    = \\left ( \\begin{array}{rr} \n",
    "                           -\\alpha & \\beta \\\\\n",
    "                            \\alpha  & -\\beta \n",
    "                 \\end{array}   \\right )\n",
    " \\left ( \\begin{array}{c}\n",
    "                                 X_A \\\\ X_B \n",
    "                                \\end{array} \\right )$$\n",
    "                                \n",
    "or\n",
    "\n",
    "$$\\dot{\\bf Y} = {\\bf A}{\\bf Y}$$ \n",
    "\n",
    "with ${\\bf Y} = (X_A \\,\\, X_B)^\\intercal$.\n",
    "\n",
    "This has the solution (for $X_B(0) = 0$):\n",
    "\n",
    "$$\\frac{X_B}{X_A} = \\frac{e^{(\\alpha + \\beta)t} - 1}\n",
    "    {\\tfrac{\\beta}{\\alpha} e^{(\\alpha + \\beta)t } + 1}$$\n",
    "    \n",
    "and the long-time behavior:\n",
    "\n",
    "$$X_B/X_A \\rightarrow \\alpha/\\beta$$\n",
    "\n",
    "The characteristic timescale for change is\n",
    "\n",
    "$$\\tau_\\mathrm{ref} = \\frac{1}{\\alpha + \\beta}$$\n",
    "\n",
    "and we see that\n",
    "\n",
    "$$d(X_A + X_B)/dt = 0$$\n",
    "    \n",
    "We'll use $\\alpha = 10^9$ and $\\beta = 10^{-5}$ ."
   ]
  },
  {
   "cell_type": "code",
   "execution_count": 2,
   "metadata": {},
   "outputs": [],
   "source": [
    "alpha = 1.e9\n",
    "beta = 1.e-5"
   ]
  },
  {
   "cell_type": "markdown",
   "metadata": {},
   "source": [
    "### Discretization\n",
    "\n",
    "The backward-Euler discretization of this system is:\n",
    "\n",
    "$${\\bf Y}^{n+1} = {\\bf Y}^{n} + \\tau {\\bf A} {\\bf Y}^{n+1}$$\n",
    "\n",
    "We can write this as a linear system:\n",
    "\n",
    "$$({\\bf I} - \\tau {\\bf A}) {\\bf Y}^{n+1} = {\\bf Y}^n$$\n",
    "\n",
    "This is in the traditional \"${\\bf A}{\\bf x} = {\\bf b}$\" form of a linear system.\n"
   ]
  },
  {
   "cell_type": "markdown",
   "metadata": {},
   "source": [
    "First we need the righthand side function:"
   ]
  },
  {
   "cell_type": "code",
   "execution_count": 3,
   "metadata": {},
   "outputs": [],
   "source": [
    "def rhs(t, Y):\n",
    "    \"\"\" RHS of the system for explicit methods \"\"\"\n",
    "    return np.array([-alpha*Y[0] + beta*Y[1],\n",
    "                     +alpha*Y[0] - beta*Y[1]])"
   ]
  },
  {
   "cell_type": "markdown",
   "metadata": {},
   "source": [
    "We'll also provide a funtion to compute the matrix ${\\bf A}$"
   ]
  },
  {
   "cell_type": "code",
   "execution_count": 4,
   "metadata": {},
   "outputs": [],
   "source": [
    "def ode_mat():\n",
    "    \"\"\" return the matrix A in the linear system of ODEs \"\"\"\n",
    "    return np.array([[-alpha,  beta],\n",
    "                     [+alpha, -beta]], dtype=np.float64)"
   ]
  },
  {
   "cell_type": "markdown",
   "metadata": {},
   "source": [
    "Now we can implement backward Euler.  We'll use the NumPy linear algebra `solve` method to solve the linear system."
   ]
  },
  {
   "cell_type": "code",
   "execution_count": 5,
   "metadata": {},
   "outputs": [],
   "source": [
    "def integrate(Y_0, dt, tmax):\n",
    "    \"\"\" perform a backward-Euler integration \"\"\"\n",
    "\n",
    "    XA = Y_0[0]\n",
    "    XB = Y_0[1]\n",
    "\n",
    "    tout = [0.0]\n",
    "    xaout = [XA]\n",
    "    xbout = [XB]\n",
    "\n",
    "    t = 0.0\n",
    "    while t < tmax:\n",
    "\n",
    "        # create the matrix\n",
    "        J = np.eye(2) - dt*ode_mat()\n",
    "\n",
    "        b = np.array([XA, XB])\n",
    "\n",
    "        # solve the linear system J x = b\n",
    "        x = np.linalg.solve(J, b)\n",
    "\n",
    "        XA = x[0]\n",
    "        XB = x[1]\n",
    "\n",
    "        t += dt\n",
    "\n",
    "        tout.append(t)\n",
    "        xaout.append(XA)\n",
    "        xbout.append(XB)\n",
    "\n",
    "    return np.asarray(tout), np.asarray(xaout), np.asarray(xbout)"
   ]
  },
  {
   "cell_type": "markdown",
   "metadata": {},
   "source": [
    "For comparison, we'll use the analytic solution for the ratio of the species."
   ]
  },
  {
   "cell_type": "code",
   "execution_count": 6,
   "metadata": {},
   "outputs": [],
   "source": [
    "def analytic(t):\n",
    "    return (np.exp((alpha+beta)*t) - 1.0) / ((beta/alpha)*np.exp((alpha+beta)*t) + 1.0)"
   ]
  },
  {
   "cell_type": "markdown",
   "metadata": {},
   "source": [
    "Finally, a plotting function.  We'll scale the ratio by the asymptotic limit at long times so the ratio should approach 1."
   ]
  },
  {
   "cell_type": "code",
   "execution_count": 7,
   "metadata": {},
   "outputs": [],
   "source": [
    "def plot(t, XA, XB, label=None):\n",
    "    frac_equil = alpha / beta\n",
    "    \n",
    "    fig = plt.figure()\n",
    "    ax = fig.add_subplot(111)\n",
    "    \n",
    "    tfine = np.linspace(0, t.max(), 1000)\n",
    "    \n",
    "    ax.plot(tfine, analytic(tfine) / frac_equil, label=\"analytic\")\n",
    "    ax.plot(t, (XB/XA) / frac_equil, label=label)\n",
    "    \n",
    "    ax.set_xlabel(\"t\")\n",
    "    ax.set_ylabel(r\"$(X_B/X_A) / (\\alpha/\\beta)$\")\n",
    "    \n",
    "    ax.legend(frameon=False)\n",
    "    return fig"
   ]
  },
  {
   "cell_type": "markdown",
   "metadata": {},
   "source": [
    "We'll work in terms of the characteristic timescale"
   ]
  },
  {
   "cell_type": "code",
   "execution_count": 8,
   "metadata": {},
   "outputs": [],
   "source": [
    "tref = 1.0/(alpha + beta)"
   ]
  },
  {
   "cell_type": "markdown",
   "metadata": {},
   "source": [
    "Let's integrate using a $\\tau < \\tau_\\mathrm{ref}$"
   ]
  },
  {
   "cell_type": "code",
   "execution_count": 12,
   "metadata": {},
   "outputs": [
    {
     "data": {
      "image/png": "[encoded data removed]",
      "text/plain": [
       "<Figure size 1000x800 with 1 Axes>"
      ]
     },
     "metadata": {
      "needs_background": "light"
     },
     "output_type": "display_data"
    }
   ],
   "source": [
    "t, XA, XB = integrate([1.0, 0.0], 0.5*tref, 200*tref)\n",
    "fig = plot(t, XA, XB)"
   ]
  },
  {
   "cell_type": "markdown",
   "metadata": {},
   "source": [
    "Now let's see what happens with $\\tau > \\tau_\\mathrm{ref}$"
   ]
  },
  {
   "cell_type": "code",
   "execution_count": 11,
   "metadata": {},
   "outputs": [
    {
     "data": {
      "image/png": "[encoded data removed]",
      "text/plain": [
       "<Figure size 1000x800 with 1 Axes>"
      ]
     },
     "metadata": {
      "needs_background": "light"
     },
     "output_type": "display_data"
    }
   ],
   "source": [
    "t, XA, XB = integrate([1.0, 0.0], 5*tref, 200*tref)\n",
    "fig = plot(t, XA, XB)"
   ]
  },
  {
   "cell_type": "markdown",
   "metadata": {},
   "source": [
    "We see that we don't get the position of the rise correct for either size timestep, but we do get the asymptotic limit correct at the end."
   ]
  },
  {
   "cell_type": "markdown",
   "metadata": {},
   "source": [
    "### Runge-Kutta\n",
    "\n",
    "We can compare the above solution with one from using Runge-Kutta"
   ]
  },
  {
   "cell_type": "code",
   "execution_count": 14,
   "metadata": {},
   "outputs": [],
   "source": [
    "def rk4_integrate(Y_0, dt, tmax):\n",
    "    \"\"\" 4th-order explicit Runge-Kutta for comparison \"\"\"\n",
    "\n",
    "    XA = Y_0[0]\n",
    "    XB = Y_0[1]\n",
    "\n",
    "    tout = [0.0]\n",
    "    xaout = [XA]\n",
    "    xbout = [XB]\n",
    "\n",
    "    t = 0.0\n",
    "    while t < tmax:\n",
    "\n",
    "        k1 = rhs(t, np.array([XA, XB]))\n",
    "        k2 = rhs(t+0.5*dt, np.array([XA+0.5*dt*k1[0], XB+0.5*dt*k1[1]]))\n",
    "        k3 = rhs(t+0.5*dt, np.array([XA+0.5*dt*k2[0], XB+0.5*dt*k2[1]]))\n",
    "        k4 = rhs(t+dt, np.array([XA+dt*k3[0], XB+dt*k3[1]]))\n",
    "\n",
    "        XA += (dt/6.0)*(k1[0] + 2.0*k2[0] + 2.0*k3[0] + k4[0])\n",
    "        XB += (dt/6.0)*(k1[1] + 2.0*k2[1] + 2.0*k3[1] + k4[1])\n",
    "\n",
    "        t += dt\n",
    "\n",
    "        tout.append(t)\n",
    "        xaout.append(XA)\n",
    "        xbout.append(XB)\n",
    "\n",
    "    return np.asarray(tout), np.asarray(xaout), np.asarray(xbout)"
   ]
  },
  {
   "cell_type": "markdown",
   "metadata": {},
   "source": [
    "We'll look at the $\\tau > \\tau_\\mathrm{ref}$ case:"
   ]
  },
  {
   "cell_type": "code",
   "execution_count": 15,
   "metadata": {},
   "outputs": [
    {
     "data": {
      "image/png": "[encoded data removed]",
      "text/plain": [
       "<Figure size 1000x800 with 1 Axes>"
      ]
     },
     "metadata": {
      "needs_background": "light"
     },
     "output_type": "display_data"
    }
   ],
   "source": [
    "t, XA, XB = rk4_integrate([1.0, 0.0], 5.0*tref, 200*tref)\n",
    "fig = plot(t, XA, XB)"
   ]
  },
  {
   "cell_type": "markdown",
   "metadata": {},
   "source": [
    "Now we see that we completely miss the correct long time solution."
   ]
  },
  {
   "cell_type": "markdown",
   "metadata": {},
   "source": [
    "### Adaptive Timestepping with RK4\n",
    "\n",
    "Just to be fair to RK4, let's use the implementation in scipy, which can adapt the timestep as needed.  Let's see how many steps it can solve this in.\n",
    "\n",
    "Integrators with adaptive stepping change the timestep to ensure that the local error in integration is below a specified tolerance.  We usually specify both a relative, `rtol`, and absolute, `atol`, tolerance and they are combined as:\n",
    "\n",
    "$$\\epsilon_k = {\\tt rtol} | y_k | + {\\tt atol}$$\n",
    "\n",
    "where $y_k$ is the $k$-th member of the integration state.\n",
    "\n",
    "For this problem, we need to make sure that `atol` is really small, or we miss the correct solution."
   ]
  },
  {
   "cell_type": "code",
   "execution_count": 17,
   "metadata": {},
   "outputs": [],
   "source": [
    "from scipy.integrate import solve_ivp"
   ]
  },
  {
   "cell_type": "code",
   "execution_count": 18,
   "metadata": {},
   "outputs": [],
   "source": [
    "sol = solve_ivp(rhs, [0, 200*tref], [1.0, 0.0],\n",
    "                method=\"RK45\", dense_output=True,\n",
    "                rtol=1.e-4, atol=1.e-17)"
   ]
  },
  {
   "cell_type": "code",
   "execution_count": 19,
   "metadata": {},
   "outputs": [
    {
     "name": "stdout",
     "output_type": "stream",
     "text": [
      "  message: 'The solver successfully reached the end of the integration interval.'\n",
      "     nfev: 734\n",
      "     njev: 0\n",
      "      nlu: 0\n",
      "      sol: <scipy.integrate._ivp.common.OdeSolution object at 0x7f9286ddf670>\n",
      "   status: 0\n",
      "  success: True\n",
      "        t: array([0.00000000e+00, 1.00000000e-22, 1.10000000e-21, 1.11000000e-20,\n",
      "       1.11100000e-19, 1.11110000e-18, 1.11111000e-17, 1.11111100e-16,\n",
      "       1.11111110e-15, 1.11111111e-14, 1.11111111e-13, 1.11111111e-12,\n",
      "       1.11111111e-11, 1.11111111e-10, 5.13094363e-10, 1.02783760e-09,\n",
      "       1.60109918e-09, 2.19768815e-09, 2.80121521e-09, 3.40662809e-09,\n",
      "       4.01255936e-09, 4.61863718e-09, 5.22475731e-09, 5.83088981e-09,\n",
      "       6.43702596e-09, 7.04316319e-09, 7.64930074e-09, 8.25543839e-09,\n",
      "       8.86157606e-09, 9.46771375e-09, 1.00738514e-08, 1.06799891e-08,\n",
      "       1.12861268e-08, 1.18922645e-08, 1.24984022e-08, 1.31045399e-08,\n",
      "       1.37106776e-08, 1.43168153e-08, 1.49229529e-08, 1.55290907e-08,\n",
      "       1.61352284e-08, 1.67413661e-08, 1.73475040e-08, 1.79536419e-08,\n",
      "       1.85597800e-08, 1.91659185e-08, 1.97720577e-08, 2.03781981e-08,\n",
      "       2.09843408e-08, 2.15904877e-08, 2.21966423e-08, 2.28028109e-08,\n",
      "       2.34090053e-08, 2.40152470e-08, 2.46215753e-08, 2.52280622e-08,\n",
      "       2.58348397e-08, 2.64421485e-08, 2.70504273e-08, 2.76604710e-08,\n",
      "       2.82737063e-08, 2.88926516e-08, 2.95216306e-08, 3.01677421e-08,\n",
      "       3.08419186e-08, 3.15597239e-08, 3.23417387e-08, 3.32140878e-08,\n",
      "       3.42102521e-08, 3.53753799e-08, 3.67747086e-08, 3.85094970e-08,\n",
      "       4.07473751e-08, 4.37673075e-08, 4.78189733e-08, 5.11023422e-08,\n",
      "       5.43857111e-08, 5.78617828e-08, 6.13334381e-08, 6.45989959e-08,\n",
      "       6.77073296e-08, 7.08889354e-08, 7.43005618e-08, 7.78317418e-08,\n",
      "       8.12099007e-08, 8.43493972e-08, 8.74457652e-08, 9.07476020e-08,\n",
      "       9.42797605e-08, 9.77770092e-08, 1.01006722e-07, 1.04062608e-07,\n",
      "       1.07235208e-07, 1.10696673e-07, 1.14280758e-07, 1.17648234e-07,\n",
      "       1.20729985e-07, 1.23788843e-07, 1.27118401e-07, 1.30718324e-07,\n",
      "       1.34239714e-07, 1.37422263e-07, 1.40418806e-07, 1.43587053e-07,\n",
      "       1.47111015e-07, 1.50753458e-07, 1.54101346e-07, 1.57115434e-07,\n",
      "       1.60136370e-07, 1.63503670e-07, 1.67181918e-07, 1.70306486e-07,\n",
      "       1.73431054e-07, 1.76846203e-07, 1.80445723e-07, 1.83873810e-07,\n",
      "       1.86986987e-07, 1.90014269e-07, 1.93281779e-07, 1.96862032e-07,\n",
      "       2.00000000e-07])\n",
      " t_events: None\n",
      "        y: array([[1.00000000e+00, 1.00000000e+00, 1.00000000e+00, 1.00000000e+00,\n",
      "        1.00000000e+00, 9.99999999e-01, 9.99999989e-01, 9.99999889e-01,\n",
      "        9.99998889e-01, 9.99988889e-01, 9.99888895e-01, 9.98889506e-01,\n",
      "        9.88950389e-01, 8.94839317e-01, 5.98641635e-01, 3.57784746e-01,\n",
      "        2.01682389e-01, 1.11067366e-01, 6.07425378e-02, 3.31574186e-02,\n",
      "        1.80902033e-02, 9.86830503e-03, 5.38298682e-03, 2.93628830e-03,\n",
      "        1.60166796e-03, 8.73666763e-04, 4.76561552e-04, 2.59951391e-04,\n",
      "        1.41796424e-04, 7.73460980e-05, 4.21901954e-05, 2.30136056e-05,\n",
      "        1.25532967e-05, 6.84748234e-06, 3.73511561e-06, 2.03740411e-06,\n",
      "        1.11134860e-06, 6.06210471e-07, 3.30671345e-07, 1.80372237e-07,\n",
      "        9.83881563e-08, 5.36680673e-08, 2.92744735e-08, 1.59684308e-08,\n",
      "        8.71034589e-09, 4.75125774e-09, 2.59168271e-09, 1.41369319e-09,\n",
      "        7.71131907e-10, 4.20632181e-10, 2.29444102e-10, 1.25156199e-10,\n",
      "        6.82699812e-11, 3.72400954e-11, 2.03141371e-11, 1.10814894e-11,\n",
      "        6.04533592e-12, 3.29826022e-12, 1.79982182e-12, 9.82494713e-13,\n",
      "        5.36719292e-13, 2.93656305e-13, 1.61234259e-13, 8.92631611e-14,\n",
      "        5.03935840e-14, 2.97071231e-14, 1.90175686e-14, 1.37707836e-14,\n",
      "        1.13941951e-14, 1.04364968e-14, 1.01093938e-14, 1.00209697e-14,\n",
      "        1.00038774e-14, 1.00022739e-14, 1.00081263e-14, 1.00077867e-14,\n",
      "        1.00074613e-14, 1.00101440e-14, 1.00136829e-14, 1.00126873e-14,\n",
      "        1.00087790e-14, 1.00069657e-14, 1.00084354e-14, 1.00126469e-14,\n",
      "        1.00144142e-14, 1.00105726e-14, 1.00071537e-14, 1.00070918e-14,\n",
      "        1.00106509e-14, 1.00150370e-14, 1.00130477e-14, 1.00081841e-14,\n",
      "        1.00063856e-14, 1.00084578e-14, 1.00139150e-14, 1.00155545e-14,\n",
      "        1.00102406e-14, 1.00064592e-14, 1.00067374e-14, 1.00113949e-14,\n",
      "        1.00167910e-14, 1.00133463e-14, 1.00074921e-14, 1.00057984e-14,\n",
      "        1.00085832e-14, 1.00156267e-14, 1.00168552e-14, 1.00097771e-14,\n",
      "        1.00057445e-14, 1.00064192e-14, 1.00124284e-14, 1.00088651e-14,\n",
      "        1.00063234e-14, 1.00077064e-14, 1.00130247e-14, 1.00162479e-14,\n",
      "        1.00113452e-14, 1.00067453e-14, 1.00062771e-14, 1.00102583e-14,\n",
      "        1.00075028e-14],\n",
      "       [0.00000000e+00, 1.00000000e-13, 1.10000000e-12, 1.11000000e-11,\n",
      "        1.11100000e-10, 1.11110000e-09, 1.11110999e-08, 1.11111094e-07,\n",
      "        1.11111048e-06, 1.11110494e-05, 1.11104938e-04, 1.11049406e-03,\n",
      "        1.10496107e-02, 1.05160683e-01, 4.01358365e-01, 6.42215254e-01,\n",
      "        7.98317611e-01, 8.88932634e-01, 9.39257462e-01, 9.66842581e-01,\n",
      "        9.81909797e-01, 9.90131695e-01, 9.94617013e-01, 9.97063712e-01,\n",
      "        9.98398332e-01, 9.99126333e-01, 9.99523438e-01, 9.99740049e-01,\n",
      "        9.99858204e-01, 9.99922654e-01, 9.99957810e-01, 9.99976986e-01,\n",
      "        9.99987447e-01, 9.99993153e-01, 9.99996265e-01, 9.99997963e-01,\n",
      "        9.99998889e-01, 9.99999394e-01, 9.99999669e-01, 9.99999820e-01,\n",
      "        9.99999902e-01, 9.99999946e-01, 9.99999971e-01, 9.99999984e-01,\n",
      "        9.99999991e-01, 9.99999995e-01, 9.99999997e-01, 9.99999999e-01,\n",
      "        9.99999999e-01, 1.00000000e+00, 1.00000000e+00, 1.00000000e+00,\n",
      "        1.00000000e+00, 1.00000000e+00, 1.00000000e+00, 1.00000000e+00,\n",
      "        1.00000000e+00, 1.00000000e+00, 1.00000000e+00, 1.00000000e+00,\n",
      "        1.00000000e+00, 1.00000000e+00, 1.00000000e+00, 1.00000000e+00,\n",
      "        1.00000000e+00, 1.00000000e+00, 1.00000000e+00, 1.00000000e+00,\n",
      "        1.00000000e+00, 1.00000000e+00, 1.00000000e+00, 1.00000000e+00,\n",
      "        1.00000000e+00, 1.00000000e+00, 1.00000000e+00, 1.00000000e+00,\n",
      "        1.00000000e+00, 1.00000000e+00, 1.00000000e+00, 1.00000000e+00,\n",
      "        1.00000000e+00, 1.00000000e+00, 1.00000000e+00, 1.00000000e+00,\n",
      "        1.00000000e+00, 1.00000000e+00, 1.00000000e+00, 1.00000000e+00,\n",
      "        1.00000000e+00, 1.00000000e+00, 1.00000000e+00, 1.00000000e+00,\n",
      "        1.00000000e+00, 1.00000000e+00, 1.00000000e+00, 1.00000000e+00,\n",
      "        1.00000000e+00, 1.00000000e+00, 1.00000000e+00, 1.00000000e+00,\n",
      "        1.00000000e+00, 1.00000000e+00, 1.00000000e+00, 1.00000000e+00,\n",
      "        1.00000000e+00, 1.00000000e+00, 1.00000000e+00, 1.00000000e+00,\n",
      "        1.00000000e+00, 1.00000000e+00, 1.00000000e+00, 1.00000000e+00,\n",
      "        1.00000000e+00, 1.00000000e+00, 1.00000000e+00, 1.00000000e+00,\n",
      "        1.00000000e+00, 1.00000000e+00, 1.00000000e+00, 1.00000000e+00,\n",
      "        1.00000000e+00]])\n",
      " y_events: None\n"
     ]
    }
   ],
   "source": [
    "print(sol)"
   ]
  },
  {
   "cell_type": "code",
   "execution_count": 20,
   "metadata": {},
   "outputs": [
    {
     "data": {
      "image/png": "[encoded data removed]",
      "text/plain": [
       "<Figure size 1000x800 with 1 Axes>"
      ]
     },
     "metadata": {
      "needs_background": "light"
     },
     "output_type": "display_data"
    }
   ],
   "source": [
    "fig = plot(sol.t, sol.y[0,:], sol.y[1,:])"
   ]
  },
  {
   "cell_type": "markdown",
   "metadata": {},
   "source": [
    "We can see how many steps it took, but looking at the shape of the stored solution:"
   ]
  },
  {
   "cell_type": "code",
   "execution_count": 21,
   "metadata": {},
   "outputs": [
    {
     "data": {
      "text/plain": [
       "(2, 121)"
      ]
     },
     "execution_count": 21,
     "metadata": {},
     "output_type": "execute_result"
    }
   ],
   "source": [
    "sol.y.shape"
   ]
  },
  {
   "cell_type": "markdown",
   "metadata": {},
   "source": [
    "It took 121 steps to evolve for a timespan of 200 characteristic timescales, so it basically needed to step at / near the characteristic timescale to get a reasonable solution.\n",
    "\n",
    "This is the difficulty with stiff systems.  Even though the short timescale behavior may be only transient, explicitly methods (generally) need to resolve it in order to stay stable."
   ]
  },
  {
   "cell_type": "markdown",
   "metadata": {},
   "source": [
    "### Definition of Stiffness\n",
    "\n",
    "One common way to define stiffness is to look at the eigenvalues of the Jacobian of the system.  A stiff system has a wide separation between eigenvalues.  For our system, the eigenvalues are:"
   ]
  },
  {
   "cell_type": "code",
   "execution_count": null,
   "metadata": {},
   "outputs": [],
   "source": [
    "from sympy import init_session\n",
    "\n",
    "init_session()"
   ]
  },
  {
   "cell_type": "code",
   "execution_count": null,
   "metadata": {},
   "outputs": [],
   "source": [
    "alpha, beta = symbols(\"alpha beta\")\n",
    "\n",
    "J = Matrix([[-alpha, beta], [alpha, -beta]])\n",
    "J.eigenvals()"
   ]
  },
  {
   "cell_type": "markdown",
   "metadata": {},
   "source": [
    "Byrne & Hindmarsh (1986) give a more pragmatic definition of a stiff system:\n",
    "\n",
    "  > Perhaps the most pragmatic way to determine the stiffness of a system of ODEs\n",
    "  > is simply to solve it with a non-stiff differential equation package … \n",
    "  > Then, record the cost of solving the problem.  By the way, it would be prudent to\n",
    "  > impose a limit on CPU time or the number of function evaluations.  Similarly, solve \n",
    "  > the problem with a stiff ODE package …  Upper bounds on the cost should again be imposed.\n",
    "  > Now compare the costs of the two solutions over the same time interval.  If the stiff\n",
    "  > ODE solver was substantially less expensive to use than the non-stiff solver, then\n",
    "  > the problem was stiff."
   ]
  },
  {
   "cell_type": "markdown",
   "metadata": {},
   "source": [
    "This particular system is linear, so there is not too much difference in the performance of an implicit and explicit method (like using the `BDF` method in SciPy).  We'll look at a nonlinear system next."
   ]
  },
  {
   "cell_type": "code",
   "execution_count": null,
   "metadata": {},
   "outputs": [],
   "source": []
  }
 ],
 "metadata": {
  "kernelspec": {
   "display_name": "Python 3",
   "language": "python",
   "name": "python3"
  },
  "language_info": {
   "codemirror_mode": {
    "name": "ipython",
    "version": 3
   },
   "file_extension": ".py",
   "mimetype": "text/x-python",
   "name": "python",
   "nbconvert_exporter": "python",
   "pygments_lexer": "ipython3",
   "version": "3.9.5"
  }
 },
 "nbformat": 4,
 "nbformat_minor": 4
}
