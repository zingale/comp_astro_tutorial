{
 "cells": [
  {
   "cell_type": "markdown",
   "metadata": {},
   "source": [
    "# Lane-Emden polytrope equation\n",
    "\n",
    "We want to solve the Lane-Emden equation:\n",
    "\n",
    "\\begin{equation}\n",
    "\\frac{1}{\\xi^2} \\frac{d}{d\\xi} \\left (\\xi^2 \\frac{d\\theta}{d\\xi} \\right ) = -\\theta^n\n",
    "\\end{equation}\n",
    "\n",
    "using a Runge-Kutta integration.  We will rewrite this as 2 first order equations, taking $y = \\theta$, $z = \\theta^\\prime$:\n",
    "\n",
    "\\begin{eqnarray*}\n",
    "\\frac{dy}{d\\xi} &=& z \\\\\n",
    "\\frac{dz}{d\\xi} &=& -\\frac{2}{\\xi}z - y^n\n",
    "\\end{eqnarray*}"
   ]
  },
  {
   "cell_type": "code",
   "execution_count": 1,
   "metadata": {},
   "outputs": [],
   "source": [
    "import matplotlib.pyplot as plt\n",
    "import numpy as np"
   ]
  },
  {
   "cell_type": "markdown",
   "metadata": {},
   "source": [
    "This is our main class that does the integration.  We initialize it with the polytopic index, and then it will integrate the system for us.  We can then plot it or get\n",
    "the parameters $\\xi_1$ and $-\\xi_1^2 d\\theta/d\\xi |_{\\xi_1}$\n",
    "\n",
    "We estimate the radius, $\\xi_1$ each step and make sure that the next step does not take us past that estimate.  This prevents us from having negative $\\theta$ values.  Given a point $(\\xi_p, \\theta(\\xi_p))$, and the derivative at that point, $\\theta^\\prime_p = d\\theta/d\\xi |_{\\xi_p}$, we can write the equation of a line as:\n",
    "\n",
    "\\begin{equation}\n",
    "    \\theta(\\xi) - \\theta_p = \\theta^\\prime_p (\\xi - \\xi_p)\n",
    "\\end{equation}\n",
    "\n",
    "![theta intercept](le_extrap.png)\n",
    "\n",
    "Then we can ask when does $\\theta$ become zero, finding:\n",
    "\n",
    "\\begin{equation}\n",
    "    \\xi = -\\frac{\\theta_p}{\\theta^\\prime_p} + \\xi_p\n",
    "\\end{equation}\n",
    "\n",
    "or in terms of $y$ and $z$, \n",
    "\n",
    "\\begin{equation}\n",
    "    \\xi = -\\frac{y_p}{z_p} + \\xi_p\n",
    "\\end{equation}\n",
    "\n",
    "This is our estimate of $\\xi_1$.  We then make sure our stepsize $h$ is small enough that we do not go beyond this estimate."
   ]
  },
  {
   "cell_type": "code",
   "execution_count": 2,
   "metadata": {},
   "outputs": [],
   "source": [
    "class Polytrope:\n",
    "    \"\"\"a polytrope of index n\"\"\"\n",
    "    def __init__(self, n, h0=1.e-2, tol=1.e-12):\n",
    "        self.n = n\n",
    "        self.xi = []\n",
    "        self.theta = []\n",
    "        self.dtheta_dxi = []\n",
    "        \n",
    "        self._integrate(h0, tol)\n",
    "\n",
    "    def _integrate(self, h0, tol):\n",
    "        \"\"\"integrate the Lane-Emden system\"\"\"\n",
    "\n",
    "        # our solution vector q = (y, z)\n",
    "        q = np.zeros(2, dtype=np.float64)\n",
    "        xi = 0.0\n",
    "\n",
    "        h = h0\n",
    "\n",
    "        # initial conditions\n",
    "        q[0] = 1.0\n",
    "        q[1] = 0.0\n",
    "\n",
    "        while h > tol:\n",
    "            # 4th order RK integration -- first find the slopes\n",
    "            k1 = self._rhs(xi, q)\n",
    "            k2 = self._rhs(xi+0.5*h, q+0.5*h*k1)\n",
    "            k3 = self._rhs(xi+0.5*h, q+0.5*h*k2)\n",
    "            k4 = self._rhs(xi+h, q+h*k3)\n",
    "\n",
    "            # now update the solution to the new xi\n",
    "            q += (h/6.0)*(k1 + 2*k2 + 2*k3 + k4)\n",
    "            xi += h\n",
    "\n",
    "            # set the new stepsize--our systems is always convex\n",
    "            # (theta'' < 0), so the intersection of theta' with the\n",
    "            # x-axis will always be a conservative estimate of the\n",
    "            # radius of the star.  Make sure that the stepsize does\n",
    "            # not take us past that.\n",
    "            R_est = xi - q[0]/q[1]\n",
    "\n",
    "            if xi + h > R_est:\n",
    "                h = -q[0]/q[1]\n",
    "\n",
    "            # store the solution:\n",
    "            self.xi.append(xi)\n",
    "            self.theta.append(q[0])\n",
    "            self.dtheta_dxi.append(q[1])\n",
    "\n",
    "        self.xi = np.array(self.xi)\n",
    "        self.theta = np.array(self.theta)\n",
    "        self.dtheta_dxi = np.array(self.dtheta_dxi)\n",
    "\n",
    "    def _rhs(self, xi, q):\n",
    "        \"\"\" the righthand side of the LE system, q' = f\"\"\"\n",
    "\n",
    "        f = np.zeros_like(q)\n",
    "\n",
    "        # y' = z\n",
    "        f[0] = q[1]\n",
    "        \n",
    "        # for z', we need to use the expansion if we are at xi = 0,\n",
    "        # to avoid dividing by 0\n",
    "        if xi == 0.0:\n",
    "            f[1] = (2.0/3.0) - q[0]**self.n\n",
    "        else:\n",
    "            f[1] = -2.0*q[1]/xi - q[0]**self.n\n",
    "\n",
    "        return f\n",
    "\n",
    "    def get_params(self):\n",
    "        \"\"\" return the standard polytrope parameters xi_1,\n",
    "        and [-xi**2 theta']_{xi_1} \"\"\"\n",
    "        xi1 = self.xi[-1]\n",
    "        p2 = -xi1**2 * self.dtheta_dxi[-1]\n",
    "        return xi1, p2\n",
    "\n",
    "    def plot(self):\n",
    "        \"\"\" plot the solution \"\"\"\n",
    "        fig = plt.figure()\n",
    "        ax = fig.add_subplot(111)\n",
    "        ax.plot(self.xi, self.theta, label=r\"$\\theta$\")\n",
    "        ax.plot(self.xi, self.theta**self.n, label=r\"$\\rho/\\rho_c$\")\n",
    "        ax.set_xlabel(r\"$\\xi$\")\n",
    "        ax.legend(frameon=False)\n",
    "        return fig"
   ]
  },
  {
   "cell_type": "markdown",
   "metadata": {},
   "source": [
    "We can plot any of the polytrope solutions"
   ]
  },
  {
   "cell_type": "code",
   "execution_count": 3,
   "metadata": {},
   "outputs": [
    {
     "data": {
      "image/png": "[encoded data removed]",
      "text/plain": [
       "<Figure size 432x288 with 1 Axes>"
      ]
     },
     "metadata": {
      "needs_background": "light"
     },
     "output_type": "display_data"
    }
   ],
   "source": [
    "p = Polytrope(3)\n",
    "fig = p.plot()"
   ]
  },
  {
   "cell_type": "code",
   "execution_count": 4,
   "metadata": {},
   "outputs": [
    {
     "data": {
      "image/png": "[encoded data removed]",
      "text/plain": [
       "<Figure size 432x288 with 1 Axes>"
      ]
     },
     "metadata": {
      "needs_background": "light"
     },
     "output_type": "display_data"
    }
   ],
   "source": [
    "p = Polytrope(4)\n",
    "fig = p.plot()"
   ]
  },
  {
   "cell_type": "markdown",
   "metadata": {},
   "source": [
    "Here's a table of the important parameters"
   ]
  },
  {
   "cell_type": "code",
   "execution_count": 5,
   "metadata": {},
   "outputs": [
    {
     "name": "stdout",
     "output_type": "stream",
     "text": [
      "n    :          ξ1            -ξ1^2 dθ/dξ |_ξ1  \n",
      "   0 :          2.449508197           4.89909021\n",
      " 0.5 :          2.752698045          3.788626506\n",
      "   1 :          3.141592654          3.141592654\n",
      " 1.5 :          3.653753736          2.714055127\n",
      "   2 :          4.352874596          2.411046012\n",
      " 2.5 :          5.355275459          2.187199565\n",
      "   3 :           6.89684862          2.018235951\n",
      " 3.5 :          9.535805346          1.890557093\n",
      "   4 :          14.97154635          1.797229914\n",
      " 4.5 :          31.83646326          1.737798868\n"
     ]
    }
   ],
   "source": [
    "for i, nindex in enumerate([0, 0.5, 1, 1.5, 2, 2.5, 3, 3.5, 4, 4.5]):\n",
    "    p = Polytrope(nindex)\n",
    "    params = p.get_params()\n",
    "    if i == 0:\n",
    "        print(f\"{'n':4} : {'ξ1':^20} {'-ξ1^2 dθ/dξ |_ξ1':^20}\")\n",
    "    print(\"{:4} : {:20.10g} {:20.10g}\".format(nindex, params[0], params[1]))"
   ]
  },
  {
   "cell_type": "code",
   "execution_count": null,
   "metadata": {},
   "outputs": [],
   "source": []
  }
 ],
 "metadata": {
  "kernelspec": {
   "display_name": "Python 3 (ipykernel)",
   "language": "python",
   "name": "python3"
  },
  "language_info": {
   "codemirror_mode": {
    "name": "ipython",
    "version": 3
   },
   "file_extension": ".py",
   "mimetype": "text/x-python",
   "name": "python",
   "nbconvert_exporter": "python",
   "pygments_lexer": "ipython3",
   "version": "3.10.7"
  }
 },
 "nbformat": 4,
 "nbformat_minor": 4
}
