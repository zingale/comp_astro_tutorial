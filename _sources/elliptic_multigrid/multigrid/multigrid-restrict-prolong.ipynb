{
 "cells": [
  {
   "cell_type": "code",
   "execution_count": 1,
   "metadata": {},
   "outputs": [],
   "source": [
    "import numpy as np\n",
    "import matplotlib.pyplot as plt"
   ]
  },
  {
   "cell_type": "markdown",
   "metadata": {
    "tags": [
     "hide-cell"
    ]
   },
   "source": [
    "# Restriction and Prolongation"
   ]
  },
  {
   "cell_type": "markdown",
   "metadata": {},
   "source": [
    "We need a way to transfer data from the current grid to a coarser grid (*restriction*) or finer grid (*prolongation*).\n",
    "\n",
    "The procedure by which we do this depends on the type of grid we are using.  We'll continue to consider a cell-centered finite-difference / finite-volume grid.\n",
    "\n",
    "Since the finite-volume method is conservative, we want to ensure that the operations that we do here maintain that conservation."
   ]
  },
  {
   "cell_type": "markdown",
   "metadata": {},
   "source": [
    "Consider the following 2 grids:\n",
    "\n",
    "![a coarse and fine grid](fvrestrict.png)\n",
    "\n",
    "The fine grid (top) is indexed with $i$ and the coarse grid (bottom) is indexing with $j$.\n",
    "\n",
    "Note that the grids are properly nested: two fine cells fit exactly into a single coarse cell.\n",
    "\n",
    "In general, the jump in resolution can be something other than 2, but we'll restrict ourselves to jumps by 2 here."
   ]
  },
  {
   "cell_type": "markdown",
   "metadata": {},
   "source": [
    "## Restriction"
   ]
  },
  {
   "cell_type": "markdown",
   "metadata": {},
   "source": [
    "Consider the case of bringing the data from the fine grid to the coarse grid.  Since two fine cells are contained exactly in a single coarse cell, a conservative aveaging of the fine data down to the coarse grid would be:\n",
    "\n",
    "$$\\phi^c_j = \\frac{1}{2} \\left ( \\phi^f_i + \\phi^f_{i+1} \\right )$$\n",
    "\n",
    "This is also second-order accurate at the coarse cell cell-center."
   ]
  },
  {
   "cell_type": "markdown",
   "metadata": {},
   "source": [
    "## Prolongation\n",
    "\n",
    "To initialize the two fine cells from a coarse cell, we could do simple direct injection:\n",
    "\n",
    "$$\\phi_i^f = \\phi_j^c$$\n",
    "\n",
    "$$\\phi_{i+1}^f = \\phi_j^c$$\n",
    "\n",
    "This is only first order accurate.  A second-order accurate method of initializing the fine data starts with reconstructing the coarse data as a line:\n",
    "\n",
    "$$\\phi^{\\mathrm{coarse}}(x) = m_x (x - x_j) + \\phi^c_j$$\n",
    "\n",
    "with\n",
    "\n",
    "$$m_x = \\frac{\\phi^c_{j+1} - \\phi^c_{j-1}}{2\\Delta x}$$\n",
    "\n",
    "Then we integrate this line over the two fine cells to find their values:\n",
    "\n",
    "$$\\phi^f_j = \\phi^c_i - \\frac{\\Delta x}{4} m_x$$\n",
    "\n",
    "$$\\phi^f_{j+1} = \\phi^c_i + \\frac{\\Delta x}{4} m_x$$"
   ]
  },
  {
   "cell_type": "markdown",
   "metadata": {},
   "source": [
    "## Implementation\n",
    "\n",
    "Let's create a basic grid class that implements this.  We'll assume homogeneous Dirichlet boundary conditions."
   ]
  },
  {
   "cell_type": "code",
   "execution_count": 2,
   "metadata": {},
   "outputs": [],
   "source": [
    "class Grid:\n",
    "    def __init__(self, nx, ng=1, xmin=0, xmax=1):\n",
    "\n",
    "        self.xmin = xmin\n",
    "        self.xmax = xmax\n",
    "        self.ng = ng\n",
    "        self.nx = nx\n",
    "\n",
    "        self.ilo = ng\n",
    "        self.ihi = ng+nx-1\n",
    "\n",
    "        # physical coords -- cell-centered\n",
    "        self.dx = (xmax - xmin)/(nx)\n",
    "        self.x = xmin + (np.arange(nx+2*ng)-ng+0.5)*self.dx\n",
    "\n",
    "        # storage for the solution\n",
    "        self.phi = self.scratch_array()\n",
    "\n",
    "    def scratch_array(self):\n",
    "        \"\"\"return a scratch array dimensioned for our grid \"\"\"\n",
    "        return np.zeros((self.nx+2*self.ng), dtype=np.float64)\n",
    "\n",
    "    def fill_bcs(self):\n",
    "        \"\"\"fill the boundary conditions on phi -- we'll assume Dirichlet\"\"\"\n",
    "\n",
    "        self.phi[self.ilo-1] = -self.phi[self.ilo]\n",
    "        self.phi[self.ihi+1] = -self.phi[self.ihi]\n",
    "\n",
    "    def restrict(self):\n",
    "        \"\"\"conservative restriction\"\"\"\n",
    "        \n",
    "        # create a coarse array\n",
    "        ng = self.ng\n",
    "        nc = self.nx//2\n",
    "\n",
    "        ilo_c = ng\n",
    "        ihi_c = ng + nc - 1\n",
    "\n",
    "        coarse_data = np.zeros((nc + 2*ng), dtype=np.float64)\n",
    "\n",
    "        coarse_data[ilo_c:ihi_c+1] = 0.5 * (self.phi[self.ilo:self.ihi+1:2] +\n",
    "                                            self.phi[self.ilo+1:self.ihi+1:2])\n",
    "\n",
    "        return coarse_data\n",
    "\n",
    "    def prolong(self):\n",
    "        \"\"\"\n",
    "        prolong the data in the current (coarse) grid to a finer\n",
    "        (factor of 2 finer) grid using linear reconstruction.\n",
    "        \"\"\"\n",
    "\n",
    "        # allocate an array for the coarsely gridded data\n",
    "        ng = self.ng\n",
    "        nf = self.nx * 2\n",
    "\n",
    "        fine_data = np.zeros((nf + 2*ng), dtype=np.float64)\n",
    "\n",
    "        ilo_f = ng\n",
    "        ihi_f = ng + nf - 1\n",
    "\n",
    "        # slopes for the coarse data\n",
    "        m_x = self.scratch_array()\n",
    "        m_x[self.ilo:self.ihi+1] = 0.5 * (self.phi[self.ilo+1:self.ihi+2] -\n",
    "                                          self.phi[self.ilo-1:self.ihi])\n",
    "\n",
    "        # fill the left children\n",
    "        fine_data[ilo_f:ihi_f+1:2] = \\\n",
    "            self.phi[self.ilo:self.ihi+1] - 0.25 * m_x[self.ilo:self.ihi+1]\n",
    "\n",
    "        # fill the right children\n",
    "        fine_data[ilo_f+1:ihi_f+1:2] = \\\n",
    "            self.phi[self.ilo:self.ihi+1] + 0.25 * m_x[self.ilo:self.ihi+1]\n",
    "\n",
    "        return fine_data"
   ]
  },
  {
   "cell_type": "markdown",
   "metadata": {},
   "source": [
    "Let's test it out.  If we are conservative, we should be able to prolong and then restrict some initial data and get back what we started with.\n",
    "\n",
    "We'll create 2 grid objects: a coarse and fine one"
   ]
  },
  {
   "cell_type": "code",
   "execution_count": 3,
   "metadata": {},
   "outputs": [],
   "source": [
    "nx = 6\n",
    "coarse = Grid(nx)\n",
    "fine = Grid(2*nx)"
   ]
  },
  {
   "cell_type": "markdown",
   "metadata": {},
   "source": [
    "Now initialize the coarse data to just a sequence of integers"
   ]
  },
  {
   "cell_type": "code",
   "execution_count": 4,
   "metadata": {},
   "outputs": [
    {
     "data": {
      "text/plain": [
       "array([-1.,  1.,  2.,  3.,  4.,  5.,  6., -6.])"
      ]
     },
     "execution_count": 4,
     "metadata": {},
     "output_type": "execute_result"
    }
   ],
   "source": [
    "coarse.phi[coarse.ilo:coarse.ihi+1] = np.arange(nx)+1\n",
    "coarse.fill_bcs()\n",
    "coarse.phi"
   ]
  },
  {
   "cell_type": "markdown",
   "metadata": {},
   "source": [
    "Notice that because of this choice of initial data and the homogeneous Dirichlet BC on the right, the data is very steep there.  That should not matter for this though&mdash;we should still be conservative.\n",
    "\n",
    "Let's initialize the fine data"
   ]
  },
  {
   "cell_type": "code",
   "execution_count": 5,
   "metadata": {},
   "outputs": [
    {
     "data": {
      "text/plain": [
       "array([-0.625,  0.625,  1.375,  1.75 ,  2.25 ,  2.75 ,  3.25 ,  3.75 ,\n",
       "        4.25 ,  4.75 ,  5.25 ,  7.375,  4.625, -4.625])"
      ]
     },
     "execution_count": 5,
     "metadata": {},
     "output_type": "execute_result"
    }
   ],
   "source": [
    "fine.phi[:] = coarse.prolong()\n",
    "fine.fill_bcs()\n",
    "fine.phi"
   ]
  },
  {
   "cell_type": "markdown",
   "metadata": {},
   "source": [
    "Now let's restrict this and compare to the original coarse data"
   ]
  },
  {
   "cell_type": "code",
   "execution_count": 6,
   "metadata": {},
   "outputs": [
    {
     "data": {
      "text/plain": [
       "array([0., 1., 2., 3., 4., 5., 6., 0.])"
      ]
     },
     "execution_count": 6,
     "metadata": {},
     "output_type": "execute_result"
    }
   ],
   "source": [
    "coarse_new = fine.restrict()\n",
    "coarse_new"
   ]
  },
  {
   "cell_type": "markdown",
   "metadata": {},
   "source": [
    "Notice that this is the same as our original data&mdash;our prolongation and restriction operators are conservative."
   ]
  },
  {
   "cell_type": "code",
   "execution_count": null,
   "metadata": {},
   "outputs": [],
   "source": []
  }
 ],
 "metadata": {
  "kernelspec": {
   "display_name": "Python 3 (ipykernel)",
   "language": "python",
   "name": "python3"
  },
  "language_info": {
   "codemirror_mode": {
    "name": "ipython",
    "version": 3
   },
   "file_extension": ".py",
   "mimetype": "text/x-python",
   "name": "python",
   "nbconvert_exporter": "python",
   "pygments_lexer": "ipython3",
   "version": "3.9.5"
  }
 },
 "nbformat": 4,
 "nbformat_minor": 4
}
